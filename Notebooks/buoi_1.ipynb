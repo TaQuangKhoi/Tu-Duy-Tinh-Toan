{
 "cells": [
  {
   "cell_type": "code",
   "execution_count": 1,
   "id": "d975ab44",
   "metadata": {
    "pycharm": {
     "name": "#%%\n"
    }
   },
   "outputs": [
    {
     "name": "stdout",
     "output_type": "stream",
     "text": [
      "Hello World\n"
     ]
    }
   ],
   "source": [
    "print('Hello World');"
   ]
  },
  {
   "cell_type": "code",
   "execution_count": 2,
   "id": "ea7aa030",
   "metadata": {
    "pycharm": {
     "name": "#%%\n"
    }
   },
   "outputs": [
    {
     "data": {
      "text/plain": [
       "3"
      ]
     },
     "execution_count": 2,
     "metadata": {},
     "output_type": "execute_result"
    }
   ],
   "source": [
    "1+2"
   ]
  },
  {
   "cell_type": "code",
   "execution_count": 5,
   "id": "1313fae5",
   "metadata": {
    "pycharm": {
     "name": "#%%\n"
    }
   },
   "outputs": [
    {
     "name": "stdout",
     "output_type": "stream",
     "text": [
      "Tự học Python\n",
      "Địa chỉ ô nhớ:  1650074785584\n"
     ]
    }
   ],
   "source": [
    "x = 'Tự học Python'\n",
    "print(x)\n",
    "print('Địa chỉ ô nhớ: ', id(x))"
   ]
  },
  {
   "cell_type": "code",
   "execution_count": 4,
   "id": "c6626985",
   "metadata": {
    "pycharm": {
     "name": "#%%\n"
    }
   },
   "outputs": [
    {
     "name": "stdout",
     "output_type": "stream",
     "text": [
      "Thử nghiệm với ' \n"
     ]
    }
   ],
   "source": [
    "string1 = 'Thử nghiệm với \\' '\n",
    "print(string1)"
   ]
  },
  {
   "cell_type": "code",
   "execution_count": 5,
   "id": "e486e0b9",
   "metadata": {
    "pycharm": {
     "name": "#%%\n"
    }
   },
   "outputs": [
    {
     "name": "stdout",
     "output_type": "stream",
     "text": [
      "Thử nghiệm với \" \n"
     ]
    }
   ],
   "source": [
    "string2 = \"Thử nghiệm với \\\" \"\n",
    "print(string2)"
   ]
  },
  {
   "cell_type": "code",
   "execution_count": 6,
   "id": "715bc97b",
   "metadata": {
    "pycharm": {
     "name": "#%%\n"
    }
   },
   "outputs": [
    {
     "name": "stdout",
     "output_type": "stream",
     "text": [
      "Don't worry about this\n"
     ]
    }
   ],
   "source": [
    "myString = 'Don\\'t worry about this'\n",
    "print(mystring)"
   ]
  },
  {
   "cell_type": "code",
   "execution_count": 2,
   "id": "145c9f0f",
   "metadata": {
    "pycharm": {
     "name": "#%%\n"
    }
   },
   "outputs": [
    {
     "name": "stdout",
     "output_type": "stream",
     "text": [
      "Xin chào bạn, Keios ! \n",
      "Ồ, bạn đã 20 tuổi rồi!\n"
     ]
    }
   ],
   "source": [
    "name = input (\"Tên bạn là gì?\")\n",
    "print ( \"Xin chào bạn, \" + name + \" ! \" )\n",
    "age = input (\"Bạn bao nhiêu tuổi?\" )\n",
    "print (\"Ồ, bạn đã \" + age + \" tuổi rồi!\")"
   ]
  },
  {
   "cell_type": "code",
   "execution_count": 3,
   "id": "b30e2196",
   "metadata": {
    "pycharm": {
     "name": "#%%\n"
    }
   },
   "outputs": [
    {
     "name": "stdout",
     "output_type": "stream",
     "text": [
      "Ồ bạn đã 20 tuổi rồi ! \n"
     ]
    }
   ],
   "source": [
    "age = int (input( \" Bạn bao nhiêu tuổi ? \" ) )\n",
    "print ( \"Ồ bạn đã %d tuổi rồi ! \" %age )"
   ]
  },
  {
   "cell_type": "markdown",
   "id": "ae7f09ee",
   "metadata": {
    "pycharm": {
     "name": "#%% md\n"
    }
   },
   "source": [
    "Chương trình 1"
   ]
  },
  {
   "cell_type": "code",
   "execution_count": 6,
   "id": "23004fbd",
   "metadata": {
    "pycharm": {
     "name": "#%%\n"
    }
   },
   "outputs": [
    {
     "name": "stdout",
     "output_type": "stream",
     "text": [
      " * \n",
      " ** \n",
      " *** \n",
      " **** \n",
      " ****** \n"
     ]
    }
   ],
   "source": [
    "print ( \" * \" )\n",
    "print ( \" ** \" )\n",
    "print ( \" *** \" )\n",
    "print ( \" **** \" )\n",
    "print ( \" ****** \")"
   ]
  },
  {
   "cell_type": "markdown",
   "id": "21eb7dcb",
   "metadata": {
    "pycharm": {
     "name": "#%% md\n"
    }
   },
   "source": [
    "Cho chương trình 2 :"
   ]
  },
  {
   "cell_type": "code",
   "execution_count": 7,
   "id": "d31b70cc",
   "metadata": {
    "pycharm": {
     "name": "#%%\n"
    }
   },
   "outputs": [
    {
     "name": "stdout",
     "output_type": "stream",
     "text": [
      "*\n",
      "**\n",
      "***\n",
      "****\n",
      "*****\n"
     ]
    }
   ],
   "source": [
    "print (\"*\\n**\\n***\\n****\\n*****\")"
   ]
  },
  {
   "cell_type": "markdown",
   "id": "5e2924c6",
   "metadata": {
    "pycharm": {
     "name": "#%% md\n"
    }
   },
   "source": [
    "● Cho nội dung : “ Tôi ** yêu ** lập ** trình ** Python ” . Hãy thực hiện lưu trữ từng từ trong một biến riêng biệt , sau đó in câu trên một dòng bằng cách sử dụng hàm print . **"
   ]
  },
  {
   "cell_type": "code",
   "execution_count": 9,
   "id": "755c0ebf",
   "metadata": {
    "pycharm": {
     "name": "#%%\n"
    }
   },
   "outputs": [
    {
     "name": "stdout",
     "output_type": "stream",
     "text": [
      "Tôi yêu lập trình Python\n",
      "Tôi**yêu**lập**trình**Python\n"
     ]
    }
   ],
   "source": [
    "i = 'Tôi'\n",
    "love = 'yêu'\n",
    "programing1 = 'lập'\n",
    "programing2 = 'trình'\n",
    "python = 'Python'\n",
    "print(i, love, programing1, programing2, python)\n",
    "print(i+'**'+love+'**'+programing1+'**'+programing2+'**'+python)"
   ]
  },
  {
   "cell_type": "markdown",
   "id": "64f57363",
   "metadata": {
    "pycharm": {
     "name": "#%% md\n"
    }
   },
   "source": [
    "# Phép toán\n",
    "## Python hỗ trợ nhiều phép toán số , logic , so sánh , phép toán bit và\n",
    "phép kiểm tra tập\n",
    "  Các phép toán số thông thường : + , - , * , % , * *\n",
    "  Python có 2 phép chia :\n",
    "     - Chia đúng ( / ) : 10/3        #3.333333333333\n",
    "     - Chia nguyên ( // ) : 10//3    #3 ( nhanh hơn phép / )\n",
    "  Các phép logic : and , or , not\n",
    "     Python không có phép xor logic , trường hợp muốn tính phép xor thì thay bằng phép so\n",
    "     sánh khác ( bool ( a ) ! = bool ( b ) )\n",
    "  Các phép so sánh : < , < = , > , > = , ! ===\n",
    "  Các phép toán bit : & , \\ , ^ , ~ , << ,\n",
    "  Phép kiểm tra tập ( in , not in ) : 1 in [1,2,3]"
   ]
  },
  {
   "cell_type": "code",
   "execution_count": 13,
   "id": "a0664e84",
   "metadata": {
    "pycharm": {
     "name": "#%%\n"
    }
   },
   "outputs": [
    {
     "name": "stdout",
     "output_type": "stream",
     "text": [
      "[1, 3, 5, 7, 2, 4, 6, 8]\n"
     ]
    }
   ],
   "source": [
    "even_numbers = [ 2,4,6,8 ]\n",
    "odd_numbers = [ 1,3,5,7 ]\n",
    "all_numbers = odd_numbers + even_numbers\n",
    "print ( all_numbers )"
   ]
  },
  {
   "cell_type": "code",
   "execution_count": 14,
   "id": "bda6df8c",
   "metadata": {
    "pycharm": {
     "name": "#%%\n"
    }
   },
   "outputs": [
    {
     "data": {
      "text/plain": [
       "1.8333333333333333"
      ]
     },
     "execution_count": 14,
     "metadata": {},
     "output_type": "execute_result"
    }
   ],
   "source": [
    "11/6"
   ]
  },
  {
   "cell_type": "code",
   "execution_count": 15,
   "id": "4498aea7",
   "metadata": {
    "pycharm": {
     "name": "#%%\n"
    }
   },
   "outputs": [
    {
     "data": {
      "text/plain": [
       "1"
      ]
     },
     "execution_count": 15,
     "metadata": {},
     "output_type": "execute_result"
    }
   ],
   "source": [
    "11//6"
   ]
  },
  {
   "cell_type": "code",
   "execution_count": 18,
   "id": "b75d710d",
   "metadata": {
    "pycharm": {
     "name": "#%%\n"
    }
   },
   "outputs": [
    {
     "data": {
      "text/plain": [
       "7"
      ]
     },
     "execution_count": 18,
     "metadata": {},
     "output_type": "execute_result"
    }
   ],
   "source": [
    "so_phut = 465\n",
    "so_gio = so_phut // 60\n",
    "so_gio"
   ]
  },
  {
   "cell_type": "markdown",
   "id": "550baa22",
   "metadata": {
    "pycharm": {
     "name": "#%% md\n"
    }
   },
   "source": [
    "Ví dụ chương trình để yêu cầu người dùng nhập tổng số giây và sẽ chuyển đổi chúng thành giờ , phút và giây còn lại :"
   ]
  },
  {
   "cell_type": "code",
   "execution_count": 57,
   "id": "db6e4433",
   "metadata": {
    "pycharm": {
     "name": "#%%\n"
    }
   },
   "outputs": [
    {
     "name": "stdout",
     "output_type": "stream",
     "text": [
      "Tổng thời gian là: 1329385 giờ 44 phút 18 giây\n"
     ]
    }
   ],
   "source": [
    "so_giay = int(input(\"Số giây:\"))\n",
    "\n",
    "so_gio = so_giay//60//60\n",
    "\n",
    "so_phut = (so_giay//60) - (so_gio*60)\n",
    "\n",
    "so_giay_con_lai = so_giay - so_gio*60*60 - so_phut*60\n",
    "\n",
    "print(\"Tổng thời gian là:\", so_gio, \"giờ\", so_phut, \"phút\", so_giay_con_lai, \"giây\")"
   ]
  },
  {
   "cell_type": "code",
   "execution_count": 49,
   "id": "ab08e0c9",
   "metadata": {
    "pycharm": {
     "name": "#%%\n"
    },
    "scrolled": true
   },
   "outputs": [
    {
     "data": {
      "text/plain": [
       "60"
      ]
     },
     "execution_count": 49,
     "metadata": {},
     "output_type": "execute_result"
    }
   ],
   "source": [
    "3601//60"
   ]
  },
  {
   "cell_type": "markdown",
   "id": "25445457",
   "metadata": {},
   "source": [
    "# Bài tập về nhà"
   ]
  },
  {
   "cell_type": "markdown",
   "id": "9f1d46b5",
   "metadata": {},
   "source": [
    "10. Nhìn đồng hồ thì thấy đúng 2 giờ chiều . Đặt báo thức sẽ kêu sau 51 giờ nữa . Lúc mấy giờ chuông báo thức kêu ? ( Gợi ý : có thể đếm trên đầu ngón tay của mình , nhưng đây không phải là điều chúng ta đang theo đuổi . Nếu muốn đếm trên đầu ngón tay của mình , hãy đổi 51 thành 5100. )"
   ]
  },
  {
   "cell_type": "code",
   "execution_count": 14,
   "id": "39f47247",
   "metadata": {},
   "outputs": [
    {
     "name": "stdout",
     "output_type": "stream",
     "text": [
      "Đặt số giờ báo thức: 51\n",
      "Chuông báo thúc sẽ kêu lúc : 17 giờ của 2 ngày nữa\n"
     ]
    }
   ],
   "source": [
    "from datetime import datetime\n",
    "\n",
    "# Lấy giờ hiện tại\n",
    "now = datetime.now()\n",
    "current_time = now.strftime(\"%H:%M:%S\")\n",
    "\n",
    "timer = int(input(\"Đặt số giờ báo thức: \"))\n",
    "\n",
    "ketqua = timer%24 + 14\n",
    "\n",
    "print(\"Chuông báo thúc sẽ kêu lúc :\", ketqua, \"giờ\", \"của\", timer//24, \"ngày nữa\")"
   ]
  },
  {
   "cell_type": "markdown",
   "id": "9c02e8e4",
   "metadata": {},
   "source": [
    "11. Viết chương trình Python để giải quyết phiên bản chung của vấn đề trên . Hỏi người dùng về thời gian hiện tại ( tính bằng giờ ) và hỏi số giờ phải chờ . Chương trình sẽ xuất ra thời gian sẽ hiển thị trên đồng hồ khi chuông báo thức kêu ."
   ]
  },
  {
   "cell_type": "code",
   "execution_count": 2,
   "id": "5463c652",
   "metadata": {
    "pycharm": {
     "name": "#%%\n"
    }
   },
   "outputs": [
    {
     "name": "stdout",
     "output_type": "stream",
     "text": [
      "Đặt số giờ báo thức: 51\n",
      "Giờ hiện tại: 15:47\n",
      "Chuông báo thúc sẽ kêu lúc :  18 : 47  giờ   của  2 ngày nữa\n"
     ]
    }
   ],
   "source": [
    "from datetime import datetime\n",
    "\n",
    "# Lấy giờ hiện tại\n",
    "now = datetime.now()\n",
    "current_time = now.strftime(\"%H:%M\")\n",
    "\n",
    "timer = int(input(\"Đặt số giờ báo thức: \"))\n",
    "\n",
    "ketqua = timer%24 + int(now.strftime(\"%H\"))\n",
    "\n",
    "print(\"Giờ hiện tại:\", current_time)\n",
    "print(\"Chuông báo thúc sẽ kêu lúc : \", ketqua, \":\", now.strftime(\"%M\"), \" giờ \", \" của \", timer//24, \"ngày nữa\")"
   ]
  }
 ],
 "metadata": {
  "kernelspec": {
   "display_name": "Python 3 (ipykernel)",
   "language": "python",
   "name": "python3"
  },
  "language_info": {
   "codemirror_mode": {
    "name": "ipython",
    "version": 3
   },
   "file_extension": ".py",
   "mimetype": "text/x-python",
   "name": "python",
   "nbconvert_exporter": "python",
   "pygments_lexer": "ipython3",
   "version": "3.9.12"
  }
 },
 "nbformat": 4,
 "nbformat_minor": 5
}