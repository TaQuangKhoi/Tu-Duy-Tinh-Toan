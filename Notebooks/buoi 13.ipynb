{
 "cells": [
  {
   "cell_type": "code",
   "execution_count": 8,
   "metadata": {},
   "outputs": [
    {
     "name": "stdout",
     "output_type": "stream",
     "text": [
      "{'one': 3, 'two': 'hai'}\n"
     ]
    }
   ],
   "source": [
    "eng2vn = {}\n",
    "eng2vn['one'] = 1\n",
    "eng2vn['two'] = 'hai'\n",
    "\n",
    "eng2vn['one'] += 2\n",
    "\n",
    "print(eng2vn)"
   ]
  },
  {
   "cell_type": "code",
   "execution_count": 3,
   "metadata": {},
   "outputs": [],
   "source": [
    "thisdict =\t{\n",
    "  \"brand\": \"Ford\",\n",
    "  \"model\": \"Mustang\",\n",
    "  \"year\": 1964\n",
    "}\n",
    "del thisdict"
   ]
  },
  {
   "cell_type": "code",
   "execution_count": 17,
   "metadata": {},
   "outputs": [
    {
     "data": {
      "text/plain": [
       "{'M': 1, 'i': 4, 's': 4, 'p': 2}"
      ]
     },
     "execution_count": 17,
     "metadata": {},
     "output_type": "execute_result"
    }
   ],
   "source": [
    "letter_count = {}\n",
    "\n",
    "for letter in 'Mississippi':\n",
    "    letter_count[letter] = letter_count.get(letter, 0) + 1\n",
    "\n",
    "letter_count"
   ]
  },
  {
   "cell_type": "code",
   "execution_count": 13,
   "metadata": {},
   "outputs": [
    {
     "data": {
      "text/plain": [
       "{'key1': [1, 2, 2], 'key2': [1, 2, 2], 'key3': [1, 2, 2]}"
      ]
     },
     "execution_count": 13,
     "metadata": {},
     "output_type": "execute_result"
    }
   ],
   "source": [
    "x = ('key1', 'key2', 'key3')\n",
    "y = 0\n",
    "\n",
    "# fromkeys() sẽ tạo ra một dictionary x với các key, giá trị của chúng sẽ chia sẽ một nguồn là y\n",
    "thisdict = dict.fromkeys(x, y)\n",
    "\n",
    "thisdict"
   ]
  },
  {
   "cell_type": "code",
   "execution_count": 18,
   "metadata": {},
   "outputs": [
    {
     "data": {
      "text/plain": [
       "[('M', 1), ('i', 4), ('s', 4), ('p', 2)]"
      ]
     },
     "execution_count": 18,
     "metadata": {},
     "output_type": "execute_result"
    }
   ],
   "source": [
    "letter_items = list(letter_count.items())\n",
    "\n",
    "letter_items\n"
   ]
  },
  {
   "cell_type": "code",
   "execution_count": 19,
   "metadata": {},
   "outputs": [
    {
     "data": {
      "text/plain": [
       "[('M', 1), ('i', 4), ('p', 2), ('s', 4)]"
      ]
     },
     "execution_count": 19,
     "metadata": {},
     "output_type": "execute_result"
    }
   ],
   "source": [
    "letter_items.sort()\n",
    "\n",
    "letter_items\n",
    "\n",
    "# đã sắp xếp theo key, xếp theo bảng chữ cái"
   ]
  },
  {
   "cell_type": "code",
   "execution_count": 33,
   "metadata": {},
   "outputs": [
    {
     "name": "stdout",
     "output_type": "stream",
     "text": [
      "Hãng Sony có tivi model TV-XZ1 được sản xuất năm 2018\n"
     ]
    }
   ],
   "source": [
    "# Viết chương trình tạo 1 dic lưu các thông tin về tivi (hãng, model, năm sản xuất)\n",
    "# rồi hiển thị nội đung dic lên màn hình.\n",
    "\n",
    "dic = {\"manufactrer\": 'Sony', \"model\": 'TV-XZ1', \"year\": 2018}\n",
    "\n",
    "print('Hãng', dic['manufactrer'],  \"có tivi model\" , dic['model'], \"được sản xuất năm\", dic['year'])\n"
   ]
  },
  {
   "cell_type": "code",
   "execution_count": 45,
   "metadata": {},
   "outputs": [
    {
     "name": "stdout",
     "output_type": "stream",
     "text": [
      "Sony hoặc Sony\n"
     ]
    }
   ],
   "source": [
    "# Viết code truy xuất tới một item của dic bằng key của nó.\n",
    "print(dic['manufactrer'], 'hoặc', dic.get('manufactrer'))\n"
   ]
  },
  {
   "cell_type": "code",
   "execution_count": 46,
   "metadata": {},
   "outputs": [
    {
     "name": "stdout",
     "output_type": "stream",
     "text": [
      "Model là TV-XZ1\n"
     ]
    }
   ],
   "source": [
    "#Viết code dùng hàm get() truy xuất tới key của dictionary.\n",
    "print('Model là', dic.get('model'))"
   ]
  },
  {
   "cell_type": "code",
   "execution_count": 50,
   "metadata": {},
   "outputs": [
    {
     "name": "stdout",
     "output_type": "stream",
     "text": [
      "Key model có trong dic\n"
     ]
    }
   ],
   "source": [
    "# Bài 2. Viết code xác định xem một key được chỉ định có tồn tại trong từ điển hay không?\n",
    "\n",
    "key = input('Nhập key: ')\n",
    "\n",
    "if key in dic:\n",
    "    print('Key', key, 'có trong dic')\n",
    "else:\n",
    "    print('Key', key, 'không có trong dic')"
   ]
  },
  {
   "cell_type": "code",
   "execution_count": 4,
   "metadata": {},
   "outputs": [
    {
     "data": {
      "text/plain": [
       "{'modeel': 'TV-XZ1', 'year': 2018}"
      ]
     },
     "execution_count": 4,
     "metadata": {},
     "output_type": "execute_result"
    }
   ],
   "source": [
    "data = {'Sony':1, 'LG':2}\n",
    "data['Sony'] = {'modeel': 'TV-XZ1', 'year': 2018}\n",
    "data['LG'] = {'modeel': 'TV-XZ2', 'year': 2019}\n",
    "data.get('Sony')"
   ]
  },
  {
   "cell_type": "code",
   "execution_count": null,
   "metadata": {},
   "outputs": [],
   "source": [
    "# Giả sử có từ điển dictHS = {“Nguyễn Văn An”:8,”Hà Linh Chi”:9.5}.\n",
    "dictHS = {'Nguyễn Văn An':8,'Hà Linh Chi':9.5}"
   ]
  },
  {
   "cell_type": "code",
   "execution_count": 8,
   "metadata": {},
   "outputs": [
    {
     "data": {
      "text/plain": [
       "{'Nguyễn Văn An': 8, 'Hà Linh Chi': 9.5, 'TQK': 19.0, 'Tạ Quang Khôi': 5.5}"
      ]
     },
     "execution_count": 8,
     "metadata": {},
     "output_type": "execute_result"
    }
   ],
   "source": [
    "# Viết chương trình thực hiện nhập lần lượt Họ tên và Điểm số của hs.\n",
    "name = input('Nhập tên: ')\n",
    "while name in dictHS:\n",
    "    name = input('Nhập tên khác : ')\n",
    "\n",
    "score = float(input('Nhập điểm: '))\n",
    "while score < 0 or score > 10:\n",
    "    score = float(input('Nhập điểm khác: '))\n",
    "\n",
    "dictHS[name] = score\n",
    "\n",
    "dictHS"
   ]
  },
  {
   "cell_type": "code",
   "execution_count": null,
   "metadata": {},
   "outputs": [],
   "source": [
    "while True: # vòng lặp vô hạn\n",
    "    solan = int(input('Nhập số người cần nhập: '))\n",
    "    if x in range(solan): \n",
    "        name = input('Nhập tên: ')\n",
    "        while name in dictHS: # kiểm tra tên đã có trong dictHS chưa\n",
    "            name = input('Nhập tên khác : ')\n",
    "\n",
    "        score = float(input('Nhập điểm: '))\n",
    "        while score < 0 or score > 10:\n",
    "            score = float(input('Nhập điểm khác: '))\n",
    "\n",
    "        dictHS[name] = score\n",
    "\n",
    "        dictHS"
   ]
  },
  {
   "cell_type": "code",
   "execution_count": 12,
   "metadata": {},
   "outputs": [
    {
     "data": {
      "text/plain": [
       "{'Mai': [7, 9.3], 'Bình': [6, 5]}"
      ]
     },
     "execution_count": 12,
     "metadata": {},
     "output_type": "execute_result"
    }
   ],
   "source": [
    "# Từ điển D được định nghĩa khóa là tên hs trong lớp , giá trị là cặp điểm\n",
    "# trung bình Văn và Toán , D = { “ Mai ” : [ 7,9.3 ] , ” Bình ” : [ 6,5 ] } . \n",
    "D = { \"Mai\" : [ 7, 9.3 ] , \"Bình\" : [ 6,5 ] }\n",
    "D"
   ]
  },
  {
   "cell_type": "code",
   "execution_count": null,
   "metadata": {},
   "outputs": [],
   "source": [
    "\n",
    "# Viết chương trình nhập tên hs , tiếp theo nhập điểm Văn và Toán trên cùng một dòng cách nhau bởi dấu phẩy . \n",
    "# Sau đó thông báo đã cập nhập xong hoặc đã nhập xong cho hs mới .\n",
    "\n",
    "while True:\n",
    "    name = input('Nhập tên: ')\n",
    "    if name in D:\n",
    "        diemcu = ' và '.join(D.get(name))\n",
    "        print(type(diemcu))\n",
    "        D[name] = input(f'Điểm cũ Văn Toán là {diemcu}, hãy cập nhật điểm Văn và Toán mới: ').split(',')\n",
    "        D\n",
    "    else:\n",
    "        van, toan = list(map(float, input('Nhập điểm Văn và Toán: ').split(',')))\n",
    "        D[name] = [van, toan]\n",
    "        D\n",
    "\n",
    "\n"
   ]
  },
  {
   "cell_type": "code",
   "execution_count": 30,
   "metadata": {},
   "outputs": [
    {
     "data": {
      "text/plain": [
       "{'Mai': [7, 9.3], 'Bình': [6, 5], 'Khôi': ['5', '6']}"
      ]
     },
     "execution_count": 30,
     "metadata": {},
     "output_type": "execute_result"
    }
   ],
   "source": [
    "D"
   ]
  },
  {
   "cell_type": "code",
   "execution_count": 37,
   "metadata": {},
   "outputs": [
    {
     "name": "stdout",
     "output_type": "stream",
     "text": [
      "2 19 101 103 257 "
     ]
    }
   ],
   "source": [
    "# Cho ds số A = [ 2,19,30,45,100,101,104,103,200,301,257 ] .\n",
    "# Tìm và in ra màn hình chỉ những số nguyên tố thuộc danh sách này .\n",
    "A = [ 2,19,30,45,100,101,104,103,200,301,257 ]\n",
    "A\n",
    "\n",
    "\n",
    "def is_prime(n):\n",
    "    ketqua = True\n",
    "    if n == 2:\n",
    "        ketqua = True\n",
    "    else:\n",
    "        if n > 2:\n",
    "            for x in range(2, n):\n",
    "                if n % x == 0:\n",
    "                    ketqua = False\n",
    "                    break\n",
    "        else:\n",
    "            ketqua = False\n",
    "    return ketqua\n",
    "\n",
    "\n",
    "for i in A:\n",
    "    if is_prime(i):\n",
    "        print(i, end=' ')\n",
    "    "
   ]
  },
  {
   "cell_type": "code",
   "execution_count": 38,
   "metadata": {},
   "outputs": [
    {
     "data": {
      "text/plain": [
       "[2, 19, 5, 4, 6, 20, 40]"
      ]
     },
     "execution_count": 38,
     "metadata": {},
     "output_type": "execute_result"
    }
   ],
   "source": [
    "# Bài 6. D = [2, 19, 5, 4, 2, 6, 4, 5, 20, 40, 4].\n",
    "# Hãy xóa  tất cả những phần tử lặp trong danh sách\n",
    "D = [2, 19, 5, 4, 2, 6, 4, 5, 20, 40, 4]\n",
    "unique = []\n",
    "\n",
    "for i in D:\n",
    "    if i not in unique:\n",
    "        unique.append(i)\n",
    "\n",
    "unique"
   ]
  }
 ],
 "metadata": {
  "kernelspec": {
   "display_name": "Python 3.10.8 64-bit (microsoft store)",
   "language": "python",
   "name": "python3"
  },
  "language_info": {
   "codemirror_mode": {
    "name": "ipython",
    "version": 3
   },
   "file_extension": ".py",
   "mimetype": "text/x-python",
   "name": "python",
   "nbconvert_exporter": "python",
   "pygments_lexer": "ipython3",
   "version": "3.10.8"
  },
  "orig_nbformat": 4,
  "vscode": {
   "interpreter": {
    "hash": "58dbfdb34cf82127b32c5737e6183911655ff227e5c11e8f5e4b25048ae98ef2"
   }
  }
 },
 "nbformat": 4,
 "nbformat_minor": 2
}
