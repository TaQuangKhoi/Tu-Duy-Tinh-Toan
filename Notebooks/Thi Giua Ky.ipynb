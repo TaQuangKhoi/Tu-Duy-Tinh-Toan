{
 "cells": [
  {
   "cell_type": "code",
   "execution_count": 1,
   "metadata": {
    "collapsed": true
   },
   "outputs": [],
   "source": [
    "# Câu 1\n",
    "import turtle\n",
    "windows = turtle.Screen()\n",
    "mausac = [\"red\", \"green\", \"blue\", \"orange\", \"pink\", \"yellow\"]\n",
    "\n",
    "# Lục giác\n",
    "lg = turtle.Pen()\n",
    "\n",
    "for i in range(6):\n",
    "    lg.color(mausac[i])\n",
    "    lg.forward(50)\n",
    "    lg.left(60)\n",
    "\n",
    "windows.mainloop()"
   ]
  },
  {
   "cell_type": "code",
   "execution_count": 3,
   "outputs": [
    {
     "ename": "ValueError",
     "evalue": "invalid literal for int() with base 10: ''",
     "output_type": "error",
     "traceback": [
      "\u001B[1;31m---------------------------------------------------------------------------\u001B[0m",
      "\u001B[1;31mValueError\u001B[0m                                Traceback (most recent call last)",
      "Input \u001B[1;32mIn [3]\u001B[0m, in \u001B[0;36m<cell line: 8>\u001B[1;34m()\u001B[0m\n\u001B[0;32m      4\u001B[0m     n \u001B[38;5;241m=\u001B[39m \u001B[38;5;28minput\u001B[39m(\u001B[38;5;124m\"\u001B[39m\u001B[38;5;124mNhập lại đúng định dạng số tự nhiên n\u001B[39m\u001B[38;5;124m\"\u001B[39m)\n\u001B[0;32m      6\u001B[0m tong \u001B[38;5;241m=\u001B[39m \u001B[38;5;241m0\u001B[39m\n\u001B[1;32m----> 8\u001B[0m \u001B[38;5;28;01mfor\u001B[39;00m i \u001B[38;5;129;01min\u001B[39;00m \u001B[38;5;28mrange\u001B[39m(\u001B[38;5;28;43mint\u001B[39;49m\u001B[43m(\u001B[49m\u001B[43mn\u001B[49m\u001B[43m)\u001B[49m\u001B[38;5;241m+\u001B[39m\u001B[38;5;241m1\u001B[39m):\n\u001B[0;32m      9\u001B[0m     tong \u001B[38;5;241m=\u001B[39m tong \u001B[38;5;241m+\u001B[39m (i\u001B[38;5;241m*\u001B[39m\u001B[38;5;241m*\u001B[39m\u001B[38;5;241m2\u001B[39m)\n\u001B[0;32m     10\u001B[0m \u001B[38;5;28mprint\u001B[39m(tong)\n",
      "\u001B[1;31mValueError\u001B[0m: invalid literal for int() with base 10: ''"
     ]
    }
   ],
   "source": [
    "# Câu 2\n",
    "n = input(\"Nhập số tự nhiên n\")\n",
    "while n.isalpha():\n",
    "    n = input(\"Nhập lại đúng định dạng số tự nhiên n\")\n",
    "\n",
    "tong = 0\n",
    "\n",
    "for i in range(int(n)+1):\n",
    "    tong = tong + (i**2)\n",
    "print(tong)"
   ],
   "metadata": {
    "collapsed": false
   }
  },
  {
   "cell_type": "code",
   "execution_count": 2,
   "outputs": [
    {
     "ename": "NameError",
     "evalue": "name 'n' is not defined",
     "output_type": "error",
     "traceback": [
      "\u001B[1;31m---------------------------------------------------------------------------\u001B[0m",
      "\u001B[1;31mNameError\u001B[0m                                 Traceback (most recent call last)",
      "Input \u001B[1;32mIn [2]\u001B[0m, in \u001B[0;36m<cell line: 30>\u001B[1;34m()\u001B[0m\n\u001B[0;32m     28\u001B[0m     hv\u001B[38;5;241m.\u001B[39mleft(\u001B[38;5;241m135\u001B[39m)\n\u001B[0;32m     29\u001B[0m     hv\u001B[38;5;241m.\u001B[39mpendown()\n\u001B[1;32m---> 30\u001B[0m \u001B[43mcau3\u001B[49m\u001B[43m(\u001B[49m\u001B[38;5;28;43mint\u001B[39;49m\u001B[43m(\u001B[49m\u001B[43msohv\u001B[49m\u001B[43m)\u001B[49m\u001B[43m)\u001B[49m\n\u001B[0;32m     31\u001B[0m windows\u001B[38;5;241m.\u001B[39mmainloop()\n",
      "Input \u001B[1;32mIn [2]\u001B[0m, in \u001B[0;36mcau3\u001B[1;34m(n)\u001B[0m\n\u001B[0;32m     13\u001B[0m     hv\u001B[38;5;241m.\u001B[39mleft(\u001B[38;5;241m90\u001B[39m)\n\u001B[0;32m     14\u001B[0m canh \u001B[38;5;241m=\u001B[39m canh \u001B[38;5;241m+\u001B[39m \u001B[38;5;241m20\u001B[39m\n\u001B[1;32m---> 15\u001B[0m \u001B[43mgoout2\u001B[49m\u001B[43m(\u001B[49m\u001B[43m)\u001B[49m\n",
      "Input \u001B[1;32mIn [2]\u001B[0m, in \u001B[0;36mgoout2\u001B[1;34m()\u001B[0m\n\u001B[0;32m     25\u001B[0m hv\u001B[38;5;241m.\u001B[39mright(\u001B[38;5;241m135\u001B[39m)\n\u001B[0;32m     26\u001B[0m hv\u001B[38;5;241m.\u001B[39mpenup()\n\u001B[1;32m---> 27\u001B[0m hv\u001B[38;5;241m.\u001B[39mforward(\u001B[38;5;28mint\u001B[39m(math\u001B[38;5;241m.\u001B[39msqrt(\u001B[43mn\u001B[49m)))\n\u001B[0;32m     28\u001B[0m hv\u001B[38;5;241m.\u001B[39mleft(\u001B[38;5;241m135\u001B[39m)\n\u001B[0;32m     29\u001B[0m hv\u001B[38;5;241m.\u001B[39mpendown()\n",
      "\u001B[1;31mNameError\u001B[0m: name 'n' is not defined"
     ]
    }
   ],
   "source": [
    "# Câu 3 - Hình vuông to lồng nhỏ\n",
    "import turtle, math\n",
    "windows = turtle.Screen()\n",
    "hv = turtle.Pen()\n",
    "sohv = input(\"Nhập số hình vuông: \")\n",
    "while sohv.isalpha():\n",
    "    sohv = input(\"Nhập lại đúng định dạng số hình vuông\")\n",
    "def cau3(n = 1):\n",
    "    canh = 50\n",
    "    for i in range(n):\n",
    "        for x in range(4):\n",
    "            hv.forward(canh)\n",
    "            hv.left(90)\n",
    "        canh = canh + 20\n",
    "        goout2()\n",
    "def goout1():\n",
    "    hv.right(90)\n",
    "    hv.penup()\n",
    "    hv.forward(10)\n",
    "    hv.right(90)\n",
    "    hv.forward(10)\n",
    "    hv.right(180)\n",
    "    hv.pendown()\n",
    "def goout2():\n",
    "    hv.right(135)\n",
    "    hv.penup()\n",
    "    hv.forward(int(math.sqrt(n)))\n",
    "    hv.left(135)\n",
    "    hv.pendown()\n",
    "cau3(int(sohv))\n",
    "windows.mainloop()"
   ],
   "metadata": {
    "collapsed": false
   }
  },
  {
   "cell_type": "code",
   "execution_count": 1,
   "outputs": [
    {
     "ename": "Terminator",
     "evalue": "",
     "output_type": "error",
     "traceback": [
      "\u001B[1;31m---------------------------------------------------------------------------\u001B[0m",
      "\u001B[1;31mTerminator\u001B[0m                                Traceback (most recent call last)",
      "Input \u001B[1;32mIn [1]\u001B[0m, in \u001B[0;36m<cell line: 16>\u001B[1;34m()\u001B[0m\n\u001B[0;32m     14\u001B[0m             hv\u001B[38;5;241m.\u001B[39mleft(\u001B[38;5;241m90\u001B[39m)\n\u001B[0;32m     15\u001B[0m         hv\u001B[38;5;241m.\u001B[39mleft(xoay)\n\u001B[1;32m---> 16\u001B[0m \u001B[43mcau4\u001B[49m\u001B[43m(\u001B[49m\u001B[38;5;28;43mint\u001B[39;49m\u001B[43m(\u001B[49m\u001B[43msohv\u001B[49m\u001B[43m)\u001B[49m\u001B[43m)\u001B[49m\n\u001B[0;32m     17\u001B[0m windows\u001B[38;5;241m.\u001B[39mmainloop()\n",
      "Input \u001B[1;32mIn [1]\u001B[0m, in \u001B[0;36mcau4\u001B[1;34m(n)\u001B[0m\n\u001B[0;32m     13\u001B[0m     hv\u001B[38;5;241m.\u001B[39mforward(\u001B[38;5;241m50\u001B[39m)\n\u001B[0;32m     14\u001B[0m     hv\u001B[38;5;241m.\u001B[39mleft(\u001B[38;5;241m90\u001B[39m)\n\u001B[1;32m---> 15\u001B[0m \u001B[43mhv\u001B[49m\u001B[38;5;241;43m.\u001B[39;49m\u001B[43mleft\u001B[49m\u001B[43m(\u001B[49m\u001B[43mxoay\u001B[49m\u001B[43m)\u001B[49m\n",
      "File \u001B[1;32mD:\\ProgramData\\Anaconda3\\lib\\turtle.py:1700\u001B[0m, in \u001B[0;36mTNavigator.left\u001B[1;34m(self, angle)\u001B[0m\n\u001B[0;32m   1681\u001B[0m \u001B[38;5;28;01mdef\u001B[39;00m \u001B[38;5;21mleft\u001B[39m(\u001B[38;5;28mself\u001B[39m, angle):\n\u001B[0;32m   1682\u001B[0m     \u001B[38;5;124;03m\"\"\"Turn turtle left by angle units.\u001B[39;00m\n\u001B[0;32m   1683\u001B[0m \n\u001B[0;32m   1684\u001B[0m \u001B[38;5;124;03m    Aliases: left | lt\u001B[39;00m\n\u001B[1;32m   (...)\u001B[0m\n\u001B[0;32m   1698\u001B[0m \u001B[38;5;124;03m    67.0\u001B[39;00m\n\u001B[0;32m   1699\u001B[0m \u001B[38;5;124;03m    \"\"\"\u001B[39;00m\n\u001B[1;32m-> 1700\u001B[0m     \u001B[38;5;28;43mself\u001B[39;49m\u001B[38;5;241;43m.\u001B[39;49m\u001B[43m_rotate\u001B[49m\u001B[43m(\u001B[49m\u001B[43mangle\u001B[49m\u001B[43m)\u001B[49m\n",
      "File \u001B[1;32mD:\\ProgramData\\Anaconda3\\lib\\turtle.py:3278\u001B[0m, in \u001B[0;36mRawTurtle._rotate\u001B[1;34m(self, angle)\u001B[0m\n\u001B[0;32m   3276\u001B[0m     \u001B[38;5;28;01mfor\u001B[39;00m _ \u001B[38;5;129;01min\u001B[39;00m \u001B[38;5;28mrange\u001B[39m(steps):\n\u001B[0;32m   3277\u001B[0m         \u001B[38;5;28mself\u001B[39m\u001B[38;5;241m.\u001B[39m_orient \u001B[38;5;241m=\u001B[39m \u001B[38;5;28mself\u001B[39m\u001B[38;5;241m.\u001B[39m_orient\u001B[38;5;241m.\u001B[39mrotate(delta)\n\u001B[1;32m-> 3278\u001B[0m         \u001B[38;5;28;43mself\u001B[39;49m\u001B[38;5;241;43m.\u001B[39;49m\u001B[43m_update\u001B[49m\u001B[43m(\u001B[49m\u001B[43m)\u001B[49m\n\u001B[0;32m   3279\u001B[0m \u001B[38;5;28mself\u001B[39m\u001B[38;5;241m.\u001B[39m_orient \u001B[38;5;241m=\u001B[39m neworient\n\u001B[0;32m   3280\u001B[0m \u001B[38;5;28mself\u001B[39m\u001B[38;5;241m.\u001B[39m_update()\n",
      "File \u001B[1;32mD:\\ProgramData\\Anaconda3\\lib\\turtle.py:2661\u001B[0m, in \u001B[0;36mRawTurtle._update\u001B[1;34m(self)\u001B[0m\n\u001B[0;32m   2659\u001B[0m     \u001B[38;5;28;01mreturn\u001B[39;00m\n\u001B[0;32m   2660\u001B[0m \u001B[38;5;28;01melif\u001B[39;00m screen\u001B[38;5;241m.\u001B[39m_tracing \u001B[38;5;241m==\u001B[39m \u001B[38;5;241m1\u001B[39m:\n\u001B[1;32m-> 2661\u001B[0m     \u001B[38;5;28;43mself\u001B[39;49m\u001B[38;5;241;43m.\u001B[39;49m\u001B[43m_update_data\u001B[49m\u001B[43m(\u001B[49m\u001B[43m)\u001B[49m\n\u001B[0;32m   2662\u001B[0m     \u001B[38;5;28mself\u001B[39m\u001B[38;5;241m.\u001B[39m_drawturtle()\n\u001B[0;32m   2663\u001B[0m     screen\u001B[38;5;241m.\u001B[39m_update()                  \u001B[38;5;66;03m# TurtleScreenBase\u001B[39;00m\n",
      "File \u001B[1;32mD:\\ProgramData\\Anaconda3\\lib\\turtle.py:2647\u001B[0m, in \u001B[0;36mRawTurtle._update_data\u001B[1;34m(self)\u001B[0m\n\u001B[0;32m   2646\u001B[0m \u001B[38;5;28;01mdef\u001B[39;00m \u001B[38;5;21m_update_data\u001B[39m(\u001B[38;5;28mself\u001B[39m):\n\u001B[1;32m-> 2647\u001B[0m     \u001B[38;5;28;43mself\u001B[39;49m\u001B[38;5;241;43m.\u001B[39;49m\u001B[43mscreen\u001B[49m\u001B[38;5;241;43m.\u001B[39;49m\u001B[43m_incrementudc\u001B[49m\u001B[43m(\u001B[49m\u001B[43m)\u001B[49m\n\u001B[0;32m   2648\u001B[0m     \u001B[38;5;28;01mif\u001B[39;00m \u001B[38;5;28mself\u001B[39m\u001B[38;5;241m.\u001B[39mscreen\u001B[38;5;241m.\u001B[39m_updatecounter \u001B[38;5;241m!=\u001B[39m \u001B[38;5;241m0\u001B[39m:\n\u001B[0;32m   2649\u001B[0m         \u001B[38;5;28;01mreturn\u001B[39;00m\n",
      "File \u001B[1;32mD:\\ProgramData\\Anaconda3\\lib\\turtle.py:1293\u001B[0m, in \u001B[0;36mTurtleScreen._incrementudc\u001B[1;34m(self)\u001B[0m\n\u001B[0;32m   1291\u001B[0m \u001B[38;5;28;01mif\u001B[39;00m \u001B[38;5;129;01mnot\u001B[39;00m TurtleScreen\u001B[38;5;241m.\u001B[39m_RUNNING:\n\u001B[0;32m   1292\u001B[0m     TurtleScreen\u001B[38;5;241m.\u001B[39m_RUNNING \u001B[38;5;241m=\u001B[39m \u001B[38;5;28;01mTrue\u001B[39;00m\n\u001B[1;32m-> 1293\u001B[0m     \u001B[38;5;28;01mraise\u001B[39;00m Terminator\n\u001B[0;32m   1294\u001B[0m \u001B[38;5;28;01mif\u001B[39;00m \u001B[38;5;28mself\u001B[39m\u001B[38;5;241m.\u001B[39m_tracing \u001B[38;5;241m>\u001B[39m \u001B[38;5;241m0\u001B[39m:\n\u001B[0;32m   1295\u001B[0m     \u001B[38;5;28mself\u001B[39m\u001B[38;5;241m.\u001B[39m_updatecounter \u001B[38;5;241m+\u001B[39m\u001B[38;5;241m=\u001B[39m \u001B[38;5;241m1\u001B[39m\n",
      "\u001B[1;31mTerminator\u001B[0m: "
     ]
    }
   ],
   "source": [
    "# Câu 4 -\n",
    "import turtle\n",
    "windows = turtle.Screen()\n",
    "turtle.update()\n",
    "sohv = input(\"Nhập số hình vuông: \")\n",
    "while sohv.isalpha():\n",
    "    sohv = input(\"Nhập lại đúng định dạng số hình vuông\")\n",
    "hv = turtle.Turtle()\n",
    "xoay = 360 / int(sohv)\n",
    "def cau4(n = 1):\n",
    "    for i in range(n):\n",
    "        for x in range(4):\n",
    "            hv.forward(50)\n",
    "            hv.left(90)\n",
    "        hv.left(xoay)\n",
    "cau4(int(sohv))\n",
    "windows.mainloop()"
   ],
   "metadata": {
    "collapsed": false
   }
  }
 ],
 "metadata": {
  "kernelspec": {
   "display_name": "Python 3",
   "language": "python",
   "name": "python3"
  },
  "language_info": {
   "codemirror_mode": {
    "name": "ipython",
    "version": 2
   },
   "file_extension": ".py",
   "mimetype": "text/x-python",
   "name": "python",
   "nbconvert_exporter": "python",
   "pygments_lexer": "ipython2",
   "version": "2.7.6"
  }
 },
 "nbformat": 4,
 "nbformat_minor": 0
}
