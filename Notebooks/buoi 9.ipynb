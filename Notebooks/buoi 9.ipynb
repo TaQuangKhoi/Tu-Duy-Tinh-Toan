{
 "cells": [
  {
   "cell_type": "code",
   "execution_count": 1,
   "metadata": {
    "collapsed": true
   },
   "outputs": [
    {
     "name": "stdout",
     "output_type": "stream",
     "text": [
      "Tổng ptử 5\n",
      "Mảng là:  [19.0, -2.0, 9.8, 7.0, -10.0]\n"
     ]
    }
   ],
   "source": [
    "# In dữ liệu từ file text.txt\n",
    "\n",
    "#import os\n",
    "#os.chdir('C:\\\\My_Repos\\\\GitHub\\\\TaQuangKhoi\\\\Tu-Duy-Tinh-Toan-1')\n",
    "path = \"text.txt\"\n",
    "\n",
    "x = []\n",
    "\n",
    "f = open(path , \"r\")\n",
    "n = int(f.readline())\n",
    "line = f.readline()\n",
    "line = line.split()\n",
    "\n",
    "for i in line:\n",
    "    x.append(float(i))\n",
    "\n",
    "f.close()\n",
    "\n",
    "print(\"Tổng ptử\", n)\n",
    "print(\"Mảng là: \", x)"
   ]
  },
  {
   "cell_type": "code",
   "execution_count": null,
   "outputs": [],
   "source": [],
   "metadata": {
    "collapsed": false
   }
  }
 ],
 "metadata": {
  "kernelspec": {
   "display_name": "Python 3",
   "language": "python",
   "name": "python3"
  },
  "language_info": {
   "codemirror_mode": {
    "name": "ipython",
    "version": 2
   },
   "file_extension": ".py",
   "mimetype": "text/x-python",
   "name": "python",
   "nbconvert_exporter": "python",
   "pygments_lexer": "ipython2",
   "version": "2.7.6"
  }
 },
 "nbformat": 4,
 "nbformat_minor": 0
}
