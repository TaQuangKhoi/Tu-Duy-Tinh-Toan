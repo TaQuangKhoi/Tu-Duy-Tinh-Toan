{
 "cells": [
  {
   "cell_type": "code",
   "execution_count": 1,
   "metadata": {
    "collapsed": true
   },
   "outputs": [
    {
     "name": "stdout",
     "output_type": "stream",
     "text": [
      "Tổng ptử 5\n",
      "Mảng là:  [19.0, -2.0, 9.8, 7.0, -10.0]\n"
     ]
    }
   ],
   "source": [
    "# In dữ liệu từ file text.txt\n",
    "\n",
    "#import os\n",
    "#os.chdir('C:\\\\My_Repos\\\\GitHub\\\\TaQuangKhoi\\\\Tu-Duy-Tinh-Toan-1')\n",
    "path = \"text.txt\"\n",
    "\n",
    "x = []\n",
    "\n",
    "f = open(path, \"r\")\n",
    "n = int(f.readline())\n",
    "line = f.readline()\n",
    "line = line.split()\n",
    "\n",
    "for i in line:\n",
    "    x.append(float(i))\n",
    "\n",
    "f.close()\n",
    "\n",
    "print(\"Tổng ptử\", n)\n",
    "print(\"Mảng là: \", x)"
   ]
  },
  {
   "cell_type": "code",
   "execution_count": null,
   "outputs": [],
   "source": [
    "import time\n",
    "\n",
    "time.process_time()\n",
    "\n",
    "def do_my_sum(xs):\n",
    "    sum = 0\n",
    "    for v in xs:\n",
    "        sum += v\n",
    "    return sum\n",
    "\n",
    "def do_my_sum2(xs):\n",
    "    # sum 1\n",
    "    sum1 = 0\n",
    "    for v in xs:\n",
    "        sum1 += v\n",
    "    # sum 2\n",
    "    sum2 = 0\n",
    "    for v in xs:\n",
    "        sum2 += v\n",
    "    return sum\n",
    "\n",
    "sz = 10000000\n",
    "testdata = range(sz)\n",
    "\n",
    "\n",
    "t0 = time.process_time()\n",
    "my_result = do_my_sum(testdata)\n",
    "t1 = time.process_time()\n",
    "print(\"my_result = {0} (time taken =  {1:.4f} seconds )\"\n",
    "      .format(my_result,t1-t0))\n",
    "\n",
    "\n",
    "t4 = time.process_time()\n",
    "my_result = do_my_sum2(sz)\n",
    "t5 = time.process_time()\n",
    "print(\"my_result = {0} (time taken =  {1:.4f} seconds )\"\n",
    "      .format(my_result,t5-t4))\n",
    "\n",
    "t2 = time.process_time()\n",
    "their_result = sum(testdata)\n",
    "\n",
    "t3 = time.process_time()\n",
    "print(\"their_result = {0} (time taken = {1:.4f} seconds)\"\n",
    "      .format(their_result,t3-t2))"
   ],
   "metadata": {
    "collapsed": false
   }
  },
  {
   "cell_type": "code",
   "execution_count": null,
   "outputs": [],
   "source": [
    "# Test tốc độ max\n",
    "import random\n",
    "import time\n",
    "\n",
    "def find_max(array):\n",
    "    max = array[0]\n",
    "    for i in range(1, len(array)):\n",
    "        if max < array[i]:\n",
    "            max = array[i]\n",
    "    return max\n",
    "\n",
    "def create_array(len):\n",
    "    ran = random.Random()\n",
    "    array = []\n",
    "    for i in range(len):\n",
    "        array.append(ran.random())\n",
    "    return array\n",
    "\n",
    "array = create_array(10000000)\n",
    "\n",
    "# Find max of 1000 random numbers\n",
    "t0 = time.process_time()\n",
    "my_result = find_max(array)\n",
    "t1 = time.process_time()\n",
    "\n",
    "print(\"my_result = {0} (time taken =  {1:.4f} seconds )\"\n",
    "      .format(my_result, t1-t0))\n",
    "\n",
    "t2 = time.process_time()\n",
    "their_result = max(array)\n",
    "t3 = time.process_time()\n",
    "\n",
    "print(\"their_result = {0} (time taken = {1:.4f} seconds)\"\n",
    "      .format(their_result, t3-t2))"
   ],
   "metadata": {
    "collapsed": false
   }
  },
  {
   "cell_type": "code",
   "execution_count": 1,
   "outputs": [],
   "source": [
    "from turtle import *\n",
    "rua = Turtle()\n",
    "\n",
    "# Array with six colors\n",
    "colors = ['red', 'yellow', 'green', 'blue', 'purple', 'brown']\n",
    "\n",
    "def tamgiac(color):\n",
    "    rua.fillcolor(color)\n",
    "    rua.begin_fill()\n",
    "    for y in range(3):\n",
    "        rua.forward(100)\n",
    "        rua.left(120)\n",
    "    rua.right(60)\n",
    "    rua.end_fill()\n",
    "\n",
    "for i in range(6):\n",
    "    tamgiac(colors[i])"
   ],
   "metadata": {
    "collapsed": false
   }
  },
  {
   "cell_type": "code",
   "execution_count": null,
   "outputs": [],
   "source": [],
   "metadata": {
    "collapsed": false
   }
  }
 ],
 "metadata": {
  "kernelspec": {
   "display_name": "Python 3",
   "language": "python",
   "name": "python3"
  },
  "language_info": {
   "codemirror_mode": {
    "name": "ipython",
    "version": 2
   },
   "file_extension": ".py",
   "mimetype": "text/x-python",
   "name": "python",
   "nbconvert_exporter": "python",
   "pygments_lexer": "ipython2",
   "version": "2.7.6"
  }
 },
 "nbformat": 4,
 "nbformat_minor": 0
}
