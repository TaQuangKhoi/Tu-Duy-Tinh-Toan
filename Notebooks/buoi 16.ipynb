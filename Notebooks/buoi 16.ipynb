{
 "cells": [
  {
   "cell_type": "code",
   "execution_count": null,
   "metadata": {},
   "outputs": [],
   "source": [
    "# Bài 1 : Tính tổng 2 số nguyên nhập từ bàn phím, kiểm tra dữ liệu nhập vào\n",
    "def checkInt(so_nguyen):\n",
    "    if so_nguyen.isdigit():\n",
    "        return True\n",
    "    else: \n",
    "        return False # khi nó là chữ\n",
    "\n",
    "\n",
    "so_nguyen_1 = input(\"Nhập số nguyên 1: \")\n",
    "while(checkInt(so_nguyen_1) == False):\n",
    "    so_nguyen_1 = input(\"Nhập lại số nguyên 1: \")\n",
    "\n",
    "\n",
    "so_nguyen_2 = input(\"Nhập số nguyên 2: \")\n",
    "while(checkInt(so_nguyen_2) == False):\n",
    "    so_nguyen_2 = input(\"Nhập lại số nguyên 2: \")\n",
    "\n",
    "\n",
    "tong = int(so_nguyen_1) + int(so_nguyen_2)\n",
    "print (\"Tổng là\", tong)"
   ]
  }
 ],
 "metadata": {
  "kernelspec": {
   "display_name": "Python 3",
   "language": "python",
   "name": "python3"
  },
  "language_info": {
   "name": "python",
   "version": "3.11.1 (tags/v3.11.1:a7a450f, Dec  6 2022, 19:58:39) [MSC v.1934 64 bit (AMD64)]"
  },
  "orig_nbformat": 4,
  "vscode": {
   "interpreter": {
    "hash": "b9a67d006ba70470d94fa9263c876b68de30aeca6c4519ef49c25be83acc241f"
   }
  }
 },
 "nbformat": 4,
 "nbformat_minor": 2
}
