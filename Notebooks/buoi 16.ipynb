{
 "cells": [
  {
   "cell_type": "code",
   "execution_count": 9,
   "metadata": {},
   "outputs": [
    {
     "name": "stdout",
     "output_type": "stream",
     "text": [
      "Nhập vào 2 số là 2 và 4\n",
      "Tổng là 6\n"
     ]
    }
   ],
   "source": [
    "# Bài 1 : Tính tổng 2 số nguyên nhập từ bàn phím, kiểm tra dữ liệu nhập vào\n",
    "def checkInt(so_nguyen):\n",
    "    if so_nguyen.isdigit():\n",
    "        return True\n",
    "    else: \n",
    "        return False # khi nó là chữ\n",
    "\n",
    "\n",
    "so_nguyen_1 = input(\"Nhập số nguyên 1: \")\n",
    "while(checkInt(so_nguyen_1) == False):\n",
    "    so_nguyen_1 = input(\"Nhập lại số nguyên 1: \")\n",
    "\n",
    "\n",
    "so_nguyen_2 = input(\"Nhập số nguyên 2: \")\n",
    "while(checkInt(so_nguyen_2) == False):\n",
    "    so_nguyen_2 = input(\"Nhập lại số nguyên 2: \")\n",
    "\n",
    "\n",
    "tong = int(so_nguyen_1) + int(so_nguyen_2)\n",
    "print(\"Nhập vào 2 số là\", so_nguyen_1, \"và\", so_nguyen_2)\n",
    "print (\"Tổng là\", tong)"
   ]
  },
  {
   "cell_type": "code",
   "execution_count": 6,
   "metadata": {},
   "outputs": [
    {
     "name": "stdout",
     "output_type": "stream",
     "text": [
      "Tổng là 8\n"
     ]
    }
   ],
   "source": [
    "# Bài 2 Tính thương 2 số nguyên nhập từ bàn phím, kiểm tra dữ liệu nhập vào\n",
    "thuong = int(so_nguyen_1) * int(so_nguyen_2)\n",
    "print (\"Tổng là\", thuong)"
   ]
  },
  {
   "cell_type": "code",
   "execution_count": 7,
   "metadata": {},
   "outputs": [
    {
     "name": "stdout",
     "output_type": "stream",
     "text": [
      "[3, 5, 2, 8, 10, 7, 12]\n"
     ]
    }
   ],
   "source": [
    "# Bài 3 Cho ds A = [3,5,2,8,10,7,12]\n",
    "A = [3,5,2,8,10,7,12]\n",
    "print(A)\n"
   ]
  },
  {
   "cell_type": "code",
   "execution_count": 8,
   "metadata": {},
   "outputs": [
    {
     "name": "stdout",
     "output_type": "stream",
     "text": [
      "[9, 25, 4, 64, 100, 49, 144]\n"
     ]
    }
   ],
   "source": [
    "# Hãy tạo ds C từ bình phương các phần từ của A\n",
    "C = []\n",
    "for i in range(len(A)):\n",
    "    C.append(A[i] ** 2)\n",
    "print(C)"
   ]
  }
 ],
 "metadata": {
  "kernelspec": {
   "display_name": "Python 3",
   "language": "python",
   "name": "python3"
  },
  "language_info": {
   "codemirror_mode": {
    "name": "ipython",
    "version": 3
   },
   "file_extension": ".py",
   "mimetype": "text/x-python",
   "name": "python",
   "nbconvert_exporter": "python",
   "pygments_lexer": "ipython3",
   "version": "3.11.1"
  },
  "orig_nbformat": 4,
  "vscode": {
   "interpreter": {
    "hash": "b9a67d006ba70470d94fa9263c876b68de30aeca6c4519ef49c25be83acc241f"
   }
  }
 },
 "nbformat": 4,
 "nbformat_minor": 2
}
