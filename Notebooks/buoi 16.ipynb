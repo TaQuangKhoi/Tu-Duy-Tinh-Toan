{
 "cells": [
  {
   "cell_type": "code",
   "execution_count": 9,
   "metadata": {},
   "outputs": [
    {
     "name": "stdout",
     "output_type": "stream",
     "text": [
      "Nhập vào 2 số là 2 và 4\n",
      "Tổng là 6\n"
     ]
    }
   ],
   "source": [
    "# Bài 1 : Tính tổng 2 số nguyên nhập từ bàn phím, kiểm tra dữ liệu nhập vào\n",
    "def checkInt(so_nguyen):\n",
    "    if so_nguyen.isdigit():\n",
    "        return True\n",
    "    else: \n",
    "        return False # khi nó là chữ\n",
    "\n",
    "\n",
    "so_nguyen_1 = input(\"Nhập số nguyên 1: \")\n",
    "while(checkInt(so_nguyen_1) == False):\n",
    "    so_nguyen_1 = input(\"Nhập lại số nguyên 1: \")\n",
    "\n",
    "\n",
    "so_nguyen_2 = input(\"Nhập số nguyên 2: \")\n",
    "while(checkInt(so_nguyen_2) == False):\n",
    "    so_nguyen_2 = input(\"Nhập lại số nguyên 2: \")\n",
    "\n",
    "\n",
    "tong = int(so_nguyen_1) + int(so_nguyen_2)\n",
    "print(\"Nhập vào 2 số là\", so_nguyen_1, \"và\", so_nguyen_2)\n",
    "print (\"Tổng là\", tong)"
   ]
  },
  {
   "cell_type": "code",
   "execution_count": 6,
   "metadata": {},
   "outputs": [
    {
     "name": "stdout",
     "output_type": "stream",
     "text": [
      "Tổng là 8\n"
     ]
    }
   ],
   "source": [
    "# Bài 2 Tính thương 2 số nguyên nhập từ bàn phím, kiểm tra dữ liệu nhập vào\n",
    "thuong = int(so_nguyen_1) * int(so_nguyen_2)\n",
    "print (\"Tổng là\", thuong)"
   ]
  },
  {
   "cell_type": "code",
   "execution_count": 7,
   "metadata": {},
   "outputs": [
    {
     "name": "stdout",
     "output_type": "stream",
     "text": [
      "[3, 5, 2, 8, 10, 7, 12]\n"
     ]
    }
   ],
   "source": [
    "# Bài 3 Cho ds A = [3,5,2,8,10,7,12]\n",
    "A = [3,5,2,8,10,7,12]\n",
    "print(A)\n"
   ]
  },
  {
   "cell_type": "code",
   "execution_count": 8,
   "metadata": {},
   "outputs": [
    {
     "name": "stdout",
     "output_type": "stream",
     "text": [
      "[9, 25, 4, 64, 100, 49, 144]\n"
     ]
    }
   ],
   "source": [
    "# Hãy tạo ds C từ bình phương các phần từ của A\n",
    "C = []\n",
    "for i in range(len(A)):\n",
    "    C.append(A[i] ** 2)\n",
    "print(C)"
   ]
  },
  {
   "cell_type": "code",
   "execution_count": 19,
   "metadata": {},
   "outputs": [
    {
     "name": "stdout",
     "output_type": "stream",
     "text": [
      "Bạn đã nhấn q để thoát\n",
      "[3, 5, 6, 7, 8, 9, 9, 2, 3]\n"
     ]
    }
   ],
   "source": [
    "# Bài 4 Nhập dãy D từ bán phím gồm các số tự nhiên nguyên dương\n",
    "D = []\n",
    "while True:\n",
    "    # Do your stuff\n",
    "    so = input(\"Số tự nhiên nguyên dương\")\n",
    "    if (so == \"q\"):\n",
    "        print(\"Bạn đã nhấn q để thoát\")\n",
    "        break\n",
    "    else:\n",
    "        while(checkInt(so) == False):\n",
    "            so = input(\"Nhập lại số nguyên 1: \")\n",
    "        D.append(int(so))\n",
    "\n",
    "print(D)\n",
    "    "
   ]
  },
  {
   "cell_type": "code",
   "execution_count": 24,
   "metadata": {},
   "outputs": [
    {
     "name": "stdout",
     "output_type": "stream",
     "text": [
      "[3, 5, 7, 2]\n"
     ]
    }
   ],
   "source": [
    "# Tạo dãy B từ dãy D chỉ bao gồm các số nguyên tố có trong dãy A\n",
    "def checkSoNguyenTo(n):\n",
    "    ketqua = True\n",
    "    if n == 2:\n",
    "        ketqua = True\n",
    "    else:\n",
    "        if n > 2:\n",
    "            for x in range(2, n):\n",
    "                if n % x == 0:\n",
    "                    ketqua = False\n",
    "                    break\n",
    "        else:\n",
    "            ketqua = False\n",
    "    return ketqua\n",
    "\n",
    "B = []\n",
    "\n",
    "for i in range(len(D)):\n",
    "    if (checkSoNguyenTo(D[i]) and D[i] not in B):\n",
    "        B.append(D[i])\n",
    "\n",
    "print(B)"
   ]
  },
  {
   "cell_type": "code",
   "execution_count": 1,
   "metadata": {},
   "outputs": [
    {
     "ename": "",
     "evalue": "",
     "output_type": "error",
     "traceback": [
      "\u001b[1;31mThe Kernel crashed while executing code in the the current cell or a previous cell. Please review the code in the cell(s) to identify a possible cause of the failure. Click <a href='https://aka.ms/vscodeJupyterKernelCrash'>here</a> for more info. View Jupyter <a href='command:jupyter.viewOutput'>log</a> for further details."
     ]
    }
   ],
   "source": [
    "# Bài 5 Vẽ tam giác và đường trung tuyến. Mỗi cạnh tam giác một màu khác nhau\n",
    "\n",
    "\n",
    "def isfloat(num):\n",
    "    try:\n",
    "        float(num) # Check bằng ép kiểu\n",
    "        return True\n",
    "    except ValueError:\n",
    "        return False\n",
    "\n",
    "canh_a = input(\"Nhập cạnh a: \")\n",
    "while(isfloat(canh_a) == False):\n",
    "    canh_a = input(\"Nhập lại cạnh a: \")\n",
    "\n",
    "canh_b = input(\"Nhập cạnh b: \")\n",
    "while(isfloat(canh_b) == False):\n",
    "    canh_b = input(\"Nhập lại cạnh a: \")\n",
    "\n",
    "canh_c = input(\"Nhập cạnh c: \")\n",
    "while(isfloat(canh_c) == False):\n",
    "    canh_c = input(\"Nhập lại cạnh a: \")\n"
   ]
  },
  {
   "cell_type": "code",
   "execution_count": 1,
   "metadata": {},
   "outputs": [],
   "source": [
    "import turtle\n",
    "\n",
    "pen = turtle.Pen()\n",
    "\n",
    "mau = ['red', 'blue', 'green']\n"
   ]
  },
  {
   "cell_type": "code",
   "execution_count": null,
   "metadata": {},
   "outputs": [],
   "source": [
    "def isTamGiac (a,b,c):\n",
    "    return a+b>c and a+c>b and b+c>a\n",
    "\n",
    "def veTamGiacCan():\n",
    "    pen.color(mau[0])\n",
    "    pen.fd(canh_a)\n",
    "\n",
    "\n",
    "if(isTamGiac(canh_a,canh_b,canh_c)):\n",
    "    veTamGiac()"
   ]
  },
  {
   "cell_type": "code",
   "execution_count": 2,
   "metadata": {},
   "outputs": [],
   "source": [
    "canh_tgd = 100\n",
    "\n",
    "def ve_tam_giac_deu(canh, tam_giac):\n",
    "    tam_giac.pensize(5)\n",
    "    for i in range(3):\n",
    "        tam_giac.color(mau[i])\n",
    "        tam_giac.forward(canh)\n",
    "        tam_giac.left(120)\n",
    "\n",
    "ve_tam_giac_deu(canh_tgd, pen)\n",
    "\n",
    "import math\n",
    "\n",
    "def veDuongTrungTuyen():\n",
    "    h = (canh_tgd * math.sqrt(3))/2\n",
    "    pen.fd(canh_tgd)\n",
    "    pen.left(120+30)\n",
    "    pen.fd(h)\n",
    "    pen.left(90)\n",
    "    pen.fd(canh_tgd/2)\n",
    "    pen.lt(60+30+60)\n",
    "    pen.fd(h)\n",
    "\n",
    "\n",
    "veDuongTrungTuyen()\n",
    "\n"
   ]
  },
  {
   "cell_type": "code",
   "execution_count": 7,
   "metadata": {},
   "outputs": [
    {
     "name": "stdout",
     "output_type": "stream",
     "text": [
      "Bạn đã nhấn q để thoát chuỗi F\n",
      "Bạn đã nhấn q để thoát chuỗi I\n",
      "F [3, 4, 5, 6, 23, 4, 5, 6]\n",
      "I [2, 3, 4, 5, 6, 34, 54]\n"
     ]
    },
    {
     "data": {
      "text/plain": [
       "[23, 2, 34, 54]"
      ]
     },
     "execution_count": 7,
     "metadata": {},
     "output_type": "execute_result"
    }
   ],
   "source": [
    "# Bài 6. Hãy nhập 2 chuỗi từ bàn phím. In ra các phần tử riêng của 2 list (loại bỏ phần tử 2 list đều có)\n",
    "F = []\n",
    "I = []\n",
    "\n",
    "\n",
    "def checkInt(so_nguyen):\n",
    "    if so_nguyen.isdigit():\n",
    "        return True\n",
    "    else: \n",
    "        return False # khi nó là chữ\n",
    "\n",
    "\n",
    "def nhapChuoi(G, name):\n",
    "    while True:\n",
    "        # Do your stuff\n",
    "        so = input(\"Số tự nhiên nguyên dương\")\n",
    "        if (so == \"q\"):\n",
    "            print(\"Bạn đã nhấn q để thoát chuỗi\", name)\n",
    "            break\n",
    "        else:\n",
    "            while(checkInt(so) == False):\n",
    "                so = input(\"Nhập lại số nguyên: \")\n",
    "            G.append(int(so))\n",
    "\n",
    "\n",
    "nhapChuoi(F, 'F')\n",
    "nhapChuoi(I, 'I')\n",
    "\n",
    "print(\"F\", F)\n",
    "print(\"I\", I)\n",
    "\n",
    "\n"
   ]
  },
  {
   "cell_type": "code",
   "execution_count": 8,
   "metadata": {},
   "outputs": [
    {
     "ename": "IndexError",
     "evalue": "list index out of range",
     "output_type": "error",
     "traceback": [
      "\u001b[1;31m---------------------------------------------------------------------------\u001b[0m",
      "\u001b[1;31mIndexError\u001b[0m                                Traceback (most recent call last)",
      "Cell \u001b[1;32mIn[8], line 4\u001b[0m\n\u001b[0;32m      1\u001b[0m H \u001b[39m=\u001b[39m []\n\u001b[0;32m      3\u001b[0m \u001b[39mfor\u001b[39;00m i \u001b[39min\u001b[39;00m \u001b[39mrange\u001b[39m(\u001b[39mlen\u001b[39m(F)):\n\u001b[1;32m----> 4\u001b[0m     \u001b[39mif\u001b[39;00m F[i] \u001b[39mnot\u001b[39;00m \u001b[39min\u001b[39;00m I:\n\u001b[0;32m      5\u001b[0m         H\u001b[39m.\u001b[39mappend(F[i])\n\u001b[0;32m      6\u001b[0m     \u001b[39melse\u001b[39;00m:\n",
      "\u001b[1;31mIndexError\u001b[0m: list index out of range"
     ]
    }
   ],
   "source": [
    "H = []\n",
    "\n",
    "for i in range(len(F)):\n",
    "    if F[i] not in I:\n",
    "        H.append(F[i])\n",
    "    else:\n",
    "        F.pop(i)\n",
    "\n",
    "for i in range(len(I)):\n",
    "    if I[i] not in F:\n",
    "        H.append(I[i])\n",
    "    else:\n",
    "        I.pop(i)\n",
    "\n",
    "H"
   ]
  }
 ],
 "metadata": {
  "kernelspec": {
   "display_name": "Python 3",
   "language": "python",
   "name": "python3"
  },
  "language_info": {
   "codemirror_mode": {
    "name": "ipython",
    "version": 3
   },
   "file_extension": ".py",
   "mimetype": "text/x-python",
   "name": "python",
   "nbconvert_exporter": "python",
   "pygments_lexer": "ipython3",
   "version": "3.11.1"
  },
  "orig_nbformat": 4,
  "vscode": {
   "interpreter": {
    "hash": "b9a67d006ba70470d94fa9263c876b68de30aeca6c4519ef49c25be83acc241f"
   }
  }
 },
 "nbformat": 4,
 "nbformat_minor": 2
}
