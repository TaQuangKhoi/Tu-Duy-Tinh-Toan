{
 "cells": [
  {
   "cell_type": "code",
   "execution_count": null,
   "metadata": {
    "collapsed": true
   },
   "outputs": [],
   "source": [
    "from tkinter import *\n",
    "\n",
    "from tkinter import messagebox\n",
    "\n",
    "top = Tk()\n",
    "top.geometry(\"200x100\")\n",
    "\n",
    "\n",
    "def hello():\n",
    "    messagebox.showinfo(\"Hello Python\", \"Hello World\")\n",
    "\n",
    "\n",
    "B1 = Button(top, text=\"Hello\", command=hello, fg=\"red\", bg=\"yellow\")\n",
    "B1.place(x=35, y=50)\n",
    "\n",
    "top.mainloop()"
   ]
  },
  {
   "cell_type": "code",
   "execution_count": null,
   "metadata": {
    "collapsed": false
   },
   "outputs": [],
   "source": [
    "from tkinter import *\n",
    "\n",
    "window = Tk()\n",
    "window.geometry(\"500x200\")\n",
    "\n",
    "button = Button(window, text=\"Don't click\", width=40)\n",
    "\n",
    "button.place(x=100, y=100)\n",
    "\n",
    "clk_count = 0\n",
    "\n",
    "\n",
    "def on_click(event):\n",
    "    global clk_count\n",
    "    clk_count += 1\n",
    "    if clk_count == 1:\n",
    "        button[\"text\"] = \"Click again\"\n",
    "    elif clk_count == 2:\n",
    "        button.configure(text=\"Hừm! Không được click nữa\")\n",
    "    else:\n",
    "        window.destroy()\n",
    "\n",
    "\n",
    "button.bind(\"<ButtonRelease-1>\", on_click)\n",
    "\n",
    "window.mainloop()"
   ]
  },
  {
   "cell_type": "code",
   "execution_count": null,
   "metadata": {
    "collapsed": false
   },
   "outputs": [],
   "source": [
    "from tkinter import *\n",
    "\n",
    "\n",
    "def hello(event):\n",
    "    print(\"Singe Click, Button-1\")\n",
    "    # set new bg for button\n",
    "    event.widget.config(bg='mediumslateblue')\n",
    "\n",
    "\n",
    "def my_quit(event):\n",
    "    print(\"Double Click, so let's stop\")\n",
    "    import sys\n",
    "    sys.exit()\n",
    "\n",
    "\n",
    "widget = Button(None, text='Mouse Clicks', bg='lightskyblue')\n",
    "widget.pack()\n",
    "widget.bind('<Button-1>', hello)\n",
    "widget.bind('<Double-1>', my_quit)\n",
    "widget.mainloop()\n"
   ]
  },
  {
   "cell_type": "code",
   "execution_count": null,
   "metadata": {
    "collapsed": false
   },
   "outputs": [],
   "source": [
    "# dùng try except else finnaly để handle error khi tính tổng\n",
    "def sum_of_numbers(n):\n",
    "    my_sum = n*(n+1)/2\n",
    "    print(\"Sum of first\", n, \"numbers is: \", my_sum)\n",
    "\n",
    "\n",
    "def main():\n",
    "    try:\n",
    "        n = int(input(\"Enter a number: \"))\n",
    "    except ValueError:\n",
    "        print(\"Error: Invalid input\")\n",
    "        main()\n",
    "    else:\n",
    "        sum_of_numbers(n)\n",
    "    finally:\n",
    "        exit()\n",
    "\n",
    "\n",
    "main()\n"
   ]
  },
  {
   "cell_type": "code",
   "execution_count": null,
   "metadata": {
    "collapsed": false
   },
   "outputs": [],
   "source": [
    "# Viết chương trình nhập 2 số nguyên a và b, sau đó tính và in ra giá trị phân số a/b.\n",
    "# Chú ý xử lý ngoại lệ trong các tình huống dưới đây:\n",
    "# Người dùng nhập a hoặc b không phải số nguyên\n",
    "# Người dùng nhập b = 0\n",
    "\n",
    "\n",
    "def main():\n",
    "    a = input_int(\"Nhập a: \")\n",
    "    b = input_b(\"Nhập b: \")\n",
    "    print(a, \"/\", b, \" = \", a / b)\n",
    "\n",
    "\n",
    "def input_int(prompt):\n",
    "    while True:\n",
    "        try:\n",
    "            x = int(input(prompt))\n",
    "            return x\n",
    "        except ValueError:\n",
    "            print(\"Bạn phải nhập số nguyên\")\n",
    "\n",
    "\n",
    "def input_b(prompt):\n",
    "    x = input_int(prompt)\n",
    "    if x == 0:\n",
    "        print(\"Bạn phải nhập b khác 0\")\n",
    "        x = input_int(\"Nhập lại b: \")\n",
    "        return x\n",
    "    else:\n",
    "        return x\n",
    "\n",
    "\n",
    "main()"
   ]
  },
  {
   "cell_type": "code",
   "execution_count": null,
   "metadata": {
    "collapsed": false
   },
   "outputs": [],
   "source": [
    "# 2. Viết chương trình yêu cầu người dùng nhập a, b và c là độ dài 3 cạnh của một tam giác.\n",
    "# Xử lý ngoại lệ trong các tình huống sau:\n",
    "# Người dùng nhập a, b hoặc c không phải là kiểu số\n",
    "# Người dùng nhập giá trị 0 hoặc số âm cho a, b hoặc c\n",
    "# Người dùng nhập a, b, c dương nhưng không thể là cạnh của một tam giác\n",
    "\n",
    "class ValueNotZeroError(Exception):\n",
    "    \"\"\"Not zero value\"\"\"\n",
    "    pass\n",
    "\n",
    "\n",
    "class ValueSmallThanZeroError(Exception):\n",
    "    \"\"\"Value small than zero\"\"\"\n",
    "    pass\n",
    "\n",
    "\n",
    "class NotTriangleError(Exception):\n",
    "    \"\"\"Not triangle\"\"\"\n",
    "    pass\n",
    "\n",
    "\n",
    "def main():\n",
    "    while True:\n",
    "        try:\n",
    "            a = input_int(\"Nhập a: \")\n",
    "            b = input_int(\"Nhập b: \")\n",
    "            c = input_int(\"Nhập c: \")\n",
    "            if check_triangle(a, b, c):\n",
    "                raise NotTriangleError\n",
    "            else:\n",
    "                print(\"Đây là 3 cạnh của tam giác\")\n",
    "                break\n",
    "        except NotTriangleError:\n",
    "            print(\"Không phải là tam giác\")\n",
    "\n",
    "\n",
    "def input_int(prompt):\n",
    "    while True:\n",
    "        try:\n",
    "            x = int(input(prompt))\n",
    "            if x == 0:\n",
    "                raise ValueNotZeroError\n",
    "            if x < 0:\n",
    "                raise ValueSmallThanZeroError\n",
    "            return x\n",
    "        except ValueError:\n",
    "            print(\"Bạn phải nhập số nguyên\")\n",
    "        except ValueNotZeroError:\n",
    "            print(\"Bạn phải nhập số khác 0\")\n",
    "        except ValueSmallThanZeroError:\n",
    "            print(\"Bạn phải nhập số dương\")\n",
    "\n",
    "\n",
    "def check_triangle(a, b, c):\n",
    "    if a + b <= c or a + c <= b or b + c <= a:\n",
    "        return True\n",
    "\n",
    "\n",
    "main()\n"
   ]
  },
  {
   "cell_type": "code",
   "execution_count": null,
   "metadata": {
    "collapsed": false
   },
   "outputs": [],
   "source": [
    "# 3. Đọc 1 file và in ra màn hình 5 dòng đầu tiên, nếu file không đủ 5 dòng thì in toàn bộ nội dung file.\n",
    "# 4. Đọc 1 file và in ra màn hình 5 dòng cuối cùng, nếu file không đủ 5 dòng thì in toàn bộ nội dung file.\n",
    "\n",
    "path = \"text.txt\"\n",
    "\n",
    "x = []\n",
    "\n",
    "f = open(path, \"r\")\n"
   ]
  }
 ],
 "metadata": {
  "kernelspec": {
   "display_name": "Python 3",
   "language": "python",
   "name": "python3"
  },
  "language_info": {
   "codemirror_mode": {
    "name": "ipython",
    "version": 2
   },
   "file_extension": ".py",
   "mimetype": "text/x-python",
   "name": "python",
   "nbconvert_exporter": "python",
   "pygments_lexer": "ipython2",
   "version": "3.11.1 (tags/v3.11.1:a7a450f, Dec  6 2022, 19:58:39) [MSC v.1934 64 bit (AMD64)]"
  },
  "vscode": {
   "interpreter": {
    "hash": "b9a67d006ba70470d94fa9263c876b68de30aeca6c4519ef49c25be83acc241f"
   }
  }
 },
 "nbformat": 4,
 "nbformat_minor": 0
}
