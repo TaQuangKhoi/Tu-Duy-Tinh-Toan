{
 "cells": [
  {
   "cell_type": "code",
   "execution_count": null,
   "metadata": {
    "collapsed": true
   },
   "outputs": [],
   "source": [
    "from tkinter import *\n",
    "\n",
    "from tkinter import messagebox\n",
    "\n",
    "top = Tk()\n",
    "top.geometry(\"200x100\")\n",
    "\n",
    "\n",
    "def hello():\n",
    "    messagebox.showinfo(\"Hello Python\", \"Hello World\")\n",
    "\n",
    "\n",
    "B1 = Button(top, text=\"Hello\", command=hello, fg=\"red\", bg=\"yellow\")\n",
    "B1.place(x=35, y=50)\n",
    "\n",
    "top.mainloop()"
   ]
  },
  {
   "cell_type": "code",
   "execution_count": null,
   "outputs": [],
   "source": [
    "from tkinter import *\n",
    "\n",
    "window = Tk()\n",
    "window.geometry(\"500x200\")\n",
    "\n",
    "button = Button(window, text=\"Don't click\", width=40)\n",
    "\n",
    "button.place(x=100, y=100)\n",
    "\n",
    "clk_count = 0\n",
    "\n",
    "\n",
    "def on_click(event):\n",
    "    global clk_count\n",
    "    clk_count += 1\n",
    "    if clk_count == 1:\n",
    "        button[\"text\"] = \"Click again\"\n",
    "    elif clk_count == 2:\n",
    "        button.configure(text=\"Hừm! Không được click nữa\")\n",
    "    else:\n",
    "        window.destroy()\n",
    "\n",
    "\n",
    "button.bind(\"<ButtonRelease-1>\", on_click)\n",
    "\n",
    "window.mainloop()"
   ],
   "metadata": {
    "collapsed": false
   }
  },
  {
   "cell_type": "code",
   "execution_count": null,
   "outputs": [],
   "source": [
    "from tkinter import *\n",
    "\n",
    "\n",
    "def hello(event):\n",
    "    print(\"Singe Click, Button-1\")\n",
    "    # set new bg for button\n",
    "    event.widget.config(bg='mediumslateblue')\n",
    "\n",
    "\n",
    "def my_quit(event):\n",
    "    print(\"Double Click, so let's stop\")\n",
    "    import sys\n",
    "    sys.exit()\n",
    "\n",
    "\n",
    "widget = Button(None, text='Mouse Clicks', bg='lightskyblue')\n",
    "widget.pack()\n",
    "widget.bind('<Button-1>', hello)\n",
    "widget.bind('<Double-1>', my_quit)\n",
    "widget.mainloop()\n"
   ],
   "metadata": {
    "collapsed": false
   }
  },
  {
   "cell_type": "code",
   "execution_count": null,
   "outputs": [],
   "source": [
    "# dùng try except else finnaly để handle error khi tính tổng\n",
    "def sum_of_numbers(n):\n",
    "    my_sum = n*(n+1)/2\n",
    "    print(\"Sum of first\", n, \"numbers is: \", my_sum)\n",
    "\n",
    "\n",
    "def main():\n",
    "    try:\n",
    "        n = int(input(\"Enter a number: \"))\n",
    "    except ValueError:\n",
    "        print(\"Error: Invalid input\")\n",
    "        main()\n",
    "    else:\n",
    "        sum_of_numbers(n)\n",
    "    finally:\n",
    "        exit()\n",
    "\n",
    "\n",
    "main()\n"
   ],
   "metadata": {
    "collapsed": false
   }
  },
  {
   "cell_type": "code",
   "execution_count": null,
   "outputs": [],
   "source": [
    "# Viết chương trình nhập 2 số nguyên a và b, sau đó tính và in ra giá trị phân số a/b.\n",
    "# Chú ý xử lý ngoại lệ trong các tình huống dưới đây:\n",
    "# Người dùng nhập a hoặc b không phải số nguyên\n",
    "# Người dùng nhập b = 0\n",
    "\n",
    "\n",
    "def main():\n",
    "    a = input_int(\"Nhập a: \")\n",
    "    b = input_b(\"Nhập b: \")\n",
    "    print(a, \"/\", b, \" = \", a / b)\n",
    "\n",
    "\n",
    "def input_int(prompt):\n",
    "    while True:\n",
    "        try:\n",
    "            x = int(input(prompt))\n",
    "            return x\n",
    "        except ValueError:\n",
    "            print(\"Bạn phải nhập số nguyên\")\n",
    "\n",
    "\n",
    "def input_b(prompt):\n",
    "    x = input_int(prompt)\n",
    "    if x == 0:\n",
    "        print(\"Bạn phải nhập b khác 0\")\n",
    "        x = input_int(\"Nhập lại b: \")\n",
    "        return x\n",
    "    else:\n",
    "        return x\n",
    "\n",
    "\n",
    "main()"
   ],
   "metadata": {
    "collapsed": false
   }
  }
 ],
 "metadata": {
  "kernelspec": {
   "display_name": "Python 3",
   "language": "python",
   "name": "python3"
  },
  "language_info": {
   "codemirror_mode": {
    "name": "ipython",
    "version": 2
   },
   "file_extension": ".py",
   "mimetype": "text/x-python",
   "name": "python",
   "nbconvert_exporter": "python",
   "pygments_lexer": "ipython2",
   "version": "2.7.6"
  }
 },
 "nbformat": 4,
 "nbformat_minor": 0
}
