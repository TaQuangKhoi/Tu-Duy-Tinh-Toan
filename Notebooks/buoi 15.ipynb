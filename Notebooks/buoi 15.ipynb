{
 "cells": [
  {
   "cell_type": "code",
   "execution_count": 5,
   "metadata": {},
   "outputs": [
    {
     "name": "stdout",
     "output_type": "stream",
     "text": [
      "So nguyen cuoi cung la 7\n"
     ]
    }
   ],
   "source": [
    "#Bài 1. Nhập một số nguyên từ bàn phím, in YES nếu chữ số cuối cùng của nó là 7 và in NO nếu không\n",
    "songuyen = input(\"Nhap so nguyen: \")\n",
    "if (songuyen[-1] == '7'):\n",
    "    print(\"So nguyen cuoi cung la 7\")\n",
    "else:\n",
    "    print(\"So nguyen cuoi cung khong phai la 7\")"
   ]
  },
  {
   "cell_type": "code",
   "execution_count": 13,
   "metadata": {},
   "outputs": [
    {
     "name": "stdout",
     "output_type": "stream",
     "text": [
      "[13, 5, 7, 21, 2, 45, 6, 2, 8, 9, 458, 235, 0, 9]\n"
     ]
    }
   ],
   "source": [
    "# nhập danh sách sẵn\n",
    "A = [13, 5, 7, 21, 2, 45, 6, 2, 8, 9, 458, 235, 0, 9]\n",
    "print(A)\n"
   ]
  },
  {
   "cell_type": "code",
   "execution_count": 7,
   "metadata": {},
   "outputs": [
    {
     "name": "stdout",
     "output_type": "stream",
     "text": [
      "Tong cac so trong danh sach la:  18\n"
     ]
    }
   ],
   "source": [
    "# Bài 2 Viết chương trình tính tổng các số trong một danh sách\n",
    "total_bai2 = 0\n",
    "for i in range(len(A)):\n",
    "    total_bai2 += A[i]\n",
    "print(\"Tong cac so trong danh sach la: \", total_bai2)"
   ]
  },
  {
   "cell_type": "code",
   "execution_count": 10,
   "metadata": {},
   "outputs": [
    {
     "name": "stdout",
     "output_type": "stream",
     "text": [
      "Số  2  là số chẳng\n",
      "Số  6  là số chẳng\n",
      "Số  8  là số chẳng\n",
      "Số  458  là số chẳng\n"
     ]
    }
   ],
   "source": [
    "#Bài 3 Viết chương trình in ra tất cả các số chẵn trong ds\n",
    "for i in range(len(A)):\n",
    "    if A[i] != 0:\n",
    "        if A[i] % 2 == 0:\n",
    "            print(\"Số \", A[i], \" là số chẳng\")"
   ]
  },
  {
   "cell_type": "code",
   "execution_count": 11,
   "metadata": {},
   "outputs": [
    {
     "name": "stdout",
     "output_type": "stream",
     "text": [
      "Số lớn nhất là:  458\n"
     ]
    }
   ],
   "source": [
    "# Bài 4 Viết chương trình tìm số lớn nhất một danh sách không sử dụng hàm max()\n",
    "max = A[0]\n",
    "for i in range(len(A)):\n",
    "    if A[i] > max:\n",
    "        max = A[i]\n",
    "print(\"Số lớn nhất là: \", max)"
   ]
  },
  {
   "cell_type": "code",
   "execution_count": 16,
   "metadata": {},
   "outputs": [
    {
     "name": "stdout",
     "output_type": "stream",
     "text": [
      "[13, 5, 7, 21, 2, 45, 6, 8, 9, 458, 235, 0]\n"
     ]
    }
   ],
   "source": [
    "# Bài 5. Viết chương trình xóa tất cả các phần tử trùng lặp khỏi ds\n",
    "B = []\n",
    "for i in range(len(A)):\n",
    "    if A[i] not in B:\n",
    "        B.append(A[i])\n",
    "print(B)"
   ]
  },
  {
   "cell_type": "code",
   "execution_count": 17,
   "metadata": {},
   "outputs": [
    {
     "name": "stdout",
     "output_type": "stream",
     "text": [
      "Tổng là:  9\n"
     ]
    }
   ],
   "source": [
    "# Bài 6. Viết chương trình nhập số n. Tính tổng của các chữ số của số n. Ví dụ: 234, tổng là 2+3+4=9\n",
    "so_n = input(\"Nhập n để tính tổng\")\n",
    "total_bai6 = 0\n",
    "for i in range(len(so_n)):\n",
    "    total_bai6 += int(so_n[i])\n",
    "print(\"Tổng là: \", total_bai6)\n"
   ]
  },
  {
   "cell_type": "code",
   "execution_count": 23,
   "metadata": {},
   "outputs": [
    {
     "name": "stdout",
     "output_type": "stream",
     "text": [
      "[2, 3, 5, 7, 8, 10, 12]\n"
     ]
    }
   ],
   "source": [
    "# Bài 7. Cho ds F=[3,5,2,8,10,7,12]. Sắp xếp ds theo thứ tự tăng dần không dùng hàm sort()\n",
    "F = [3, 5, 2, 8, 10, 7, 12]\n",
    "for i in range(len(F)):\n",
    "    for j in range(len(F)-1):\n",
    "        if F[i] < F[j]:\n",
    "            F[i], F[j] = F[j], F[i]\n",
    "print(F)\n"
   ]
  },
  {
   "cell_type": "code",
   "execution_count": 32,
   "metadata": {},
   "outputs": [
    {
     "name": "stdout",
     "output_type": "stream",
     "text": [
      "là số\n"
     ]
    }
   ],
   "source": [
    "# Kiểm tra số nhập vào phải số không\n",
    "so_nhap_vao = input(\"Nhập một số\")\n",
    "if (so_nhap_vao.isnumeric() == False):\n",
    "    print(\"Không phải số\")\n",
    "else:\n",
    "    print(\"là số\")"
   ]
  },
  {
   "cell_type": "code",
   "execution_count": 1,
   "metadata": {},
   "outputs": [],
   "source": [
    "# Bài 8 : Vẽ 3 hình tam giác\n",
    "import turtle\n",
    "\n",
    "tam_giac = turtle.Pen()\n",
    "\n",
    "def ve_tam_giac_deu(canh):\n",
    "    tam_giac.color('red')\n",
    "    tam_giac.pensize(5)\n",
    "    for i in range(3):\n",
    "        tam_giac.forward(canh)\n",
    "        tam_giac.left(120)\n",
    "\n",
    "tam_giac.penup()\n",
    "tam_giac.goto(-300,0)\n",
    "tam_giac.pendown()\n",
    "\n",
    "canh_tam_giac = 50\n",
    "for i in range(3):\n",
    "    ve_tam_giac_deu(canh_tam_giac)\n",
    "    canh_tam_giac += 75\n",
    "    tam_giac.penup()\n",
    "    tam_giac.forward(canh_tam_giac + 20)\n",
    "    tam_giac.pendown()"
   ]
  },
  {
   "cell_type": "code",
   "execution_count": 3,
   "metadata": {},
   "outputs": [],
   "source": [
    "# Bài 9 - Vẽ 12 hình tam giác tạo thành hình mặt trời - hoa hướng dương\n",
    "import turtle\n",
    "\n",
    "tam_giac = turtle.Pen()\n",
    "\n",
    "# vẽ hình tam giác\n",
    "def ve_tam_giac_deu(canh):\n",
    "    tam_giac.color('red')\n",
    "    tam_giac.pensize(5)\n",
    "    for i in range(3):\n",
    "        tam_giac.forward(canh)\n",
    "        tam_giac.left(120)\n",
    "\n",
    "canh_tam_giac_bai9 = 50\n",
    "for i in range(12):\n",
    "    ve_tam_giac_deu(canh_tam_giac_bai9) # vẽ hình thứ nhất\n",
    "    tam_giac.forward(canh_tam_giac_bai9) # di chuyển sang điểm bắt đầu của hinh 2\n",
    "    tam_giac.right(30) # xoay góc 30 độ để vẽ hình tròn"
   ]
  },
  {
   "cell_type": "code",
   "execution_count": 1,
   "metadata": {},
   "outputs": [],
   "source": [
    "# Bài 10 - Vẽ 9 lá cờ\n",
    "import turtle\n",
    "\n",
    "tam_giac = turtle.Pen()\n",
    "tam_giac.speed(5)\n",
    "\n",
    "# vẽ hình tam giác\n",
    "def ve_tam_giac_deu(canh):\n",
    "    tam_giac.color('red')\n",
    "    tam_giac.pensize(5)\n",
    "    for i in range(3):\n",
    "        tam_giac.forward(canh)\n",
    "        tam_giac.left(120)\n",
    "\n",
    "canh_tam_giac_bai10 = 50\n",
    "\n",
    "for i in range(9):\n",
    "    tam_giac.left(90)\n",
    "    tam_giac.forward(canh_tam_giac_bai10 * 2)\n",
    "    tam_giac.right(180)\n",
    "    ve_tam_giac_deu(canh_tam_giac_bai10)\n",
    "    tam_giac.forward(canh_tam_giac_bai10 * 2)\n",
    "    tam_giac.lt(130)\n"
   ]
  },
  {
   "cell_type": "code",
   "execution_count": 1,
   "metadata": {},
   "outputs": [],
   "source": [
    "# Vẽ vòng xoáy (cô gửi)\n",
    "import turtle\n",
    "t = turtle.Turtle()\n",
    "s = turtle.Screen()\n",
    "s.bgcolor('black')\n",
    "t.speed(0)\n",
    "cl = ('yellow', 'red', 'pink', 'cyan', 'light green', 'blue')\n",
    "for i in range(150):\n",
    "    t.pencolor(cl[i % 6])\n",
    "    t.circle(190 - i / 2, 90)\n",
    "    t.lt(90)\n",
    "    t.circle(190 - i / 3, 90)\n",
    "    t.lt(60)\n",
    "s.exitonclick()\n"
   ]
  },
  {
   "cell_type": "code",
   "execution_count": null,
   "metadata": {},
   "outputs": [],
   "source": [
    "# Draw a sunflower\n",
    "\n",
    "import turtle\n",
    "import math\n",
    "\n",
    "t = turtle.Turtle()\n",
    "\n",
    "t.speed(0)\n",
    "\n",
    "t.color('red')\n",
    "\n",
    "for i in range(100):\n",
    "    t.circle(100)\n",
    "    t.left(360 / 100)\n",
    "    \n"
   ]
  }
 ],
 "metadata": {
  "kernelspec": {
   "display_name": "Python 3",
   "language": "python",
   "name": "python3"
  },
  "language_info": {
   "codemirror_mode": {
    "name": "ipython",
    "version": 3
   },
   "file_extension": ".py",
   "mimetype": "text/x-python",
   "name": "python",
   "nbconvert_exporter": "python",
   "pygments_lexer": "ipython3",
   "version": "3.11.1 (tags/v3.11.1:a7a450f, Dec  6 2022, 19:58:39) [MSC v.1934 64 bit (AMD64)]"
  },
  "orig_nbformat": 4,
  "vscode": {
   "interpreter": {
    "hash": "b9a67d006ba70470d94fa9263c876b68de30aeca6c4519ef49c25be83acc241f"
   }
  }
 },
 "nbformat": 4,
 "nbformat_minor": 2
}
