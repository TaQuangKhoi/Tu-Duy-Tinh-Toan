{
 "cells": [
  {
   "cell_type": "code",
   "execution_count": 5,
   "metadata": {},
   "outputs": [
    {
     "name": "stdout",
     "output_type": "stream",
     "text": [
      "So nguyen cuoi cung la 7\n"
     ]
    }
   ],
   "source": [
    "#Bài 1. Nhập một số nguyên từ bàn phím, in YES nếu chữ số cuối cùng của nó là 7 và in NO nếu không\n",
    "songuyen = input(\"Nhap so nguyen: \")\n",
    "if (songuyen[-1] == '7'):\n",
    "    print(\"So nguyen cuoi cung la 7\")\n",
    "else:\n",
    "    print(\"So nguyen cuoi cung khong phai la 7\")"
   ]
  },
  {
   "cell_type": "code",
   "execution_count": 7,
   "metadata": {},
   "outputs": [
    {
     "name": "stdout",
     "output_type": "stream",
     "text": [
      "Tong cac so trong danh sach la:  18\n"
     ]
    }
   ],
   "source": [
    "# Bài 2 Viết chương trình tính tổng các số trong một danh sách\n",
    "A = [13, 5]\n",
    "total = 0\n",
    "for i in range(len(A)):\n",
    "    total += A[i]\n",
    "print(\"Tong cac so trong danh sach la: \", total)"
   ]
  }
 ],
 "metadata": {
  "kernelspec": {
   "display_name": "Python 3",
   "language": "python",
   "name": "python3"
  },
  "language_info": {
   "codemirror_mode": {
    "name": "ipython",
    "version": 3
   },
   "file_extension": ".py",
   "mimetype": "text/x-python",
   "name": "python",
   "nbconvert_exporter": "python",
   "pygments_lexer": "ipython3",
   "version": "3.11.1"
  },
  "orig_nbformat": 4,
  "vscode": {
   "interpreter": {
    "hash": "b9a67d006ba70470d94fa9263c876b68de30aeca6c4519ef49c25be83acc241f"
   }
  }
 },
 "nbformat": 4,
 "nbformat_minor": 2
}
