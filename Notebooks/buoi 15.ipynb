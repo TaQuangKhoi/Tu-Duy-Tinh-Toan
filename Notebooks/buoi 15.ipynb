{
 "cells": [
  {
   "cell_type": "code",
   "execution_count": 5,
   "metadata": {},
   "outputs": [
    {
     "name": "stdout",
     "output_type": "stream",
     "text": [
      "So nguyen cuoi cung la 7\n"
     ]
    }
   ],
   "source": [
    "#Bài 1. Nhập một số nguyên từ bàn phím, in YES nếu chữ số cuối cùng của nó là 7 và in NO nếu không\n",
    "songuyen = input(\"Nhap so nguyen: \")\n",
    "if (songuyen[-1] == '7'):\n",
    "    print(\"So nguyen cuoi cung la 7\")\n",
    "else:\n",
    "    print(\"So nguyen cuoi cung khong phai la 7\")"
   ]
  },
  {
   "cell_type": "code",
   "execution_count": 13,
   "metadata": {},
   "outputs": [
    {
     "name": "stdout",
     "output_type": "stream",
     "text": [
      "[13, 5, 7, 21, 2, 45, 6, 2, 8, 9, 458, 235, 0, 9]\n"
     ]
    }
   ],
   "source": [
    "# nhập danh sách sẵn\n",
    "A = [13, 5, 7, 21, 2, 45, 6, 2, 8, 9, 458, 235, 0, 9]\n",
    "print(A)\n"
   ]
  },
  {
   "cell_type": "code",
   "execution_count": 7,
   "metadata": {},
   "outputs": [
    {
     "name": "stdout",
     "output_type": "stream",
     "text": [
      "Tong cac so trong danh sach la:  18\n"
     ]
    }
   ],
   "source": [
    "# Bài 2 Viết chương trình tính tổng các số trong một danh sách\n",
    "total = 0\n",
    "for i in range(len(A)):\n",
    "    total += A[i]\n",
    "print(\"Tong cac so trong danh sach la: \", total)"
   ]
  },
  {
   "cell_type": "code",
   "execution_count": 10,
   "metadata": {},
   "outputs": [
    {
     "name": "stdout",
     "output_type": "stream",
     "text": [
      "Số  2  là số chẳng\n",
      "Số  6  là số chẳng\n",
      "Số  8  là số chẳng\n",
      "Số  458  là số chẳng\n"
     ]
    }
   ],
   "source": [
    "#Bài 3 Viết chương trình in ra tất cả các số chẵn trong ds\n",
    "for i in range(len(A)):\n",
    "    if A[i] != 0:\n",
    "        if A[i] % 2 == 0:\n",
    "            print(\"Số \", A[i], \" là số chẳng\")"
   ]
  },
  {
   "cell_type": "code",
   "execution_count": 11,
   "metadata": {},
   "outputs": [
    {
     "name": "stdout",
     "output_type": "stream",
     "text": [
      "Số lớn nhất là:  458\n"
     ]
    }
   ],
   "source": [
    "# Bài 4 Viết chương trình tìm số lớn nhất một danh sách không sử dụng hàm max()\n",
    "max = A[0]\n",
    "for i in range(len(A)):\n",
    "    if A[i] > max:\n",
    "        max = A[i]\n",
    "print(\"Số lớn nhất là: \", max)"
   ]
  },
  {
   "cell_type": "code",
   "execution_count": 16,
   "metadata": {},
   "outputs": [
    {
     "name": "stdout",
     "output_type": "stream",
     "text": [
      "[13, 5, 7, 21, 2, 45, 6, 8, 9, 458, 235, 0]\n"
     ]
    }
   ],
   "source": [
    "# Bài 5. Viết chương trình xóa tất cả các phần tử trùng lặp khỏi ds\n",
    "B = []\n",
    "for i in range(len(A)):\n",
    "    if A[i] not in B:\n",
    "        B.append(A[i])\n",
    "print(B)"
   ]
  },
  {
   "cell_type": "code",
   "execution_count": 17,
   "metadata": {},
   "outputs": [
    {
     "name": "stdout",
     "output_type": "stream",
     "text": [
      "Tổng là:  9\n"
     ]
    }
   ],
   "source": [
    "# Bài 6. Viết chương trình nhập số n. Tính tổng của các chữ số của số n. Ví dụ: 234, tổng là 2+3+4=9\n",
    "so_n = input(\"Nhập n để tính tổng\")\n",
    "total_bai6 = 0\n",
    "for i in range(len(so_n)):\n",
    "    total_bai6 += int(so_n[i])\n",
    "print(\"Tổng là: \", total_bai6)\n"
   ]
  }
 ],
 "metadata": {
  "kernelspec": {
   "display_name": "Python 3",
   "language": "python",
   "name": "python3"
  },
  "language_info": {
   "codemirror_mode": {
    "name": "ipython",
    "version": 3
   },
   "file_extension": ".py",
   "mimetype": "text/x-python",
   "name": "python",
   "nbconvert_exporter": "python",
   "pygments_lexer": "ipython3",
   "version": "3.11.1"
  },
  "orig_nbformat": 4,
  "vscode": {
   "interpreter": {
    "hash": "b9a67d006ba70470d94fa9263c876b68de30aeca6c4519ef49c25be83acc241f"
   }
  }
 },
 "nbformat": 4,
 "nbformat_minor": 2
}
