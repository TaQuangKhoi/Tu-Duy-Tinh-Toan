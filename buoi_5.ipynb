{
 "cells": [
  {
   "cell_type": "code",
   "execution_count": 9,
   "id": "c5b0a9f8",
   "metadata": {
    "pycharm": {
     "name": "#%%\n"
    }
   },
   "outputs": [
    {
     "name": "stdout",
     "output_type": "stream",
     "text": [
      "0 7 14 21 28 35 42 49 56 63 70 77 84 91 98 105 112 119 126 133 140 147 154 161 168 175 182 189 196 203 210 217 224 231 238 245 252 259 266 273 280 287 294 301 308 315 322 329 336 343 350 357 364 371 378 385 392 399 406 413 420 427 434 441 448 455 462 469 476 483 490 497 504 511 518 525 532 539 546 553 560 567 574 581 588 595 602 609 616 623 630 637 644 651 658 665 672 679 686 693 700 707 714 721 728 735 742 749 756 763 770 777 784 791 798 805 812 819 826 833 840 847 854 861 868 875 882 889 896 903 910 917 924 931 938 945 952 959 966 973 980 987 994 "
     ]
    }
   ],
   "source": [
    "n = 0\n",
    "while n < 1000:\n",
    "    if (n % 7) == 0:\n",
    "        print(n, end = \" \")\n",
    "    n += 1\n",
    "    "
   ]
  },
  {
   "cell_type": "code",
   "execution_count": null,
   "id": "05340ef0",
   "metadata": {
    "pycharm": {
     "name": "#%%\n"
    }
   },
   "outputs": [],
   "source": [
    "t = 0\n",
    "n = 0\n",
    "while n < 1000:\n",
    "    if (n % 3) != 0:\n",
    "        t = t +n\n",
    "    n += 1\n",
    "print(t)"
   ]
  },
  {
   "cell_type": "code",
   "execution_count": 12,
   "id": "60de8f00",
   "metadata": {
    "pycharm": {
     "name": "#%%\n"
    }
   },
   "outputs": [
    {
     "name": "stdout",
     "output_type": "stream",
     "text": [
      "Nhập số N: 2\n",
      "N là số nguyên tố\n"
     ]
    }
   ],
   "source": [
    "n = int(input(\"Nhập số N: \"))\n",
    "x = 2\n",
    "while x < n:\n",
    "    if(n % x) == 0:\n",
    "        print(\"N không phải số nguyên tố\")\n",
    "        break;\n",
    "    x = x + 1\n",
    "else:\n",
    "    print(\"N là số nguyên tố\")"
   ]
  },
  {
   "cell_type": "code",
   "execution_count": 15,
   "id": "3b954e91",
   "metadata": {
    "pycharm": {
     "name": "#%%\n"
    }
   },
   "outputs": [
    {
     "name": "stdout",
     "output_type": "stream",
     "text": [
      "chó, mèo, lợn, gà,  \n",
      "chó, lợn, gà,  \n",
      "chó, "
     ]
    }
   ],
   "source": [
    "X = ['chó', 'mèo', 'lợn', 'gà']\n",
    "\n",
    "#In ra các loài vật trong danh sách\n",
    "for w in X:\n",
    "    print(w, end = \", \")\n",
    "\n",
    "#In ra các loài vật trừ loài mèo\n",
    "print(\" \")\n",
    "for x in X:\n",
    "    if x == 'mèo':\n",
    "        continue\n",
    "    print(x, end = \", \")\n",
    "\n",
    "#In ra các loài vật, nếu gặp loài mèo thì dừng\n",
    "print(\" \")\n",
    "for z in X:\n",
    "    if z == 'mèo':\n",
    "        break\n",
    "    print(z, end = \", \")"
   ]
  },
  {
   "cell_type": "code",
   "execution_count": 5,
   "id": "247f269d",
   "metadata": {
    "pycharm": {
     "name": "#%%\n"
    }
   },
   "outputs": [
    {
     "name": "stderr",
     "output_type": "stream",
     "text": [
      "Exception in Tkinter callback\n",
      "Traceback (most recent call last):\n",
      "  File \"D:\\ProgramData\\Anaconda3\\lib\\tkinter\\__init__.py\", line 1889, in __call__\n",
      "    try:\n",
      "KeyboardInterrupt\n"
     ]
    },
    {
     "ename": "KeyboardInterrupt",
     "evalue": "",
     "output_type": "error",
     "traceback": [
      "\u001B[1;31m---------------------------------------------------------------------------\u001B[0m",
      "\u001B[1;31mKeyboardInterrupt\u001B[0m                         Traceback (most recent call last)",
      "Input \u001B[1;32mIn [5]\u001B[0m, in \u001B[0;36m<cell line: 10>\u001B[1;34m()\u001B[0m\n\u001B[0;32m      8\u001B[0m        \u001B[38;5;28;01mbreak\u001B[39;00m\n\u001B[0;32m      9\u001B[0m end_fill()\n\u001B[1;32m---> 10\u001B[0m \u001B[43mdone\u001B[49m\u001B[43m(\u001B[49m\u001B[43m)\u001B[49m\n",
      "File \u001B[1;32m<string>:8\u001B[0m, in \u001B[0;36mmainloop\u001B[1;34m()\u001B[0m\n",
      "File \u001B[1;32mD:\\ProgramData\\Anaconda3\\lib\\turtle.py:812\u001B[0m, in \u001B[0;36mTurtleScreenBase.mainloop\u001B[1;34m(self)\u001B[0m\n\u001B[0;32m    799\u001B[0m \u001B[38;5;28;01mdef\u001B[39;00m \u001B[38;5;21mmainloop\u001B[39m(\u001B[38;5;28mself\u001B[39m):\n\u001B[0;32m    800\u001B[0m     \u001B[38;5;124;03m\"\"\"Starts event loop - calling Tkinter's mainloop function.\u001B[39;00m\n\u001B[0;32m    801\u001B[0m \n\u001B[0;32m    802\u001B[0m \u001B[38;5;124;03m    No argument.\u001B[39;00m\n\u001B[1;32m   (...)\u001B[0m\n\u001B[0;32m    810\u001B[0m \n\u001B[0;32m    811\u001B[0m \u001B[38;5;124;03m    \"\"\"\u001B[39;00m\n\u001B[1;32m--> 812\u001B[0m     \u001B[38;5;28;43mself\u001B[39;49m\u001B[38;5;241;43m.\u001B[39;49m\u001B[43mcv\u001B[49m\u001B[38;5;241;43m.\u001B[39;49m\u001B[43mtk\u001B[49m\u001B[38;5;241;43m.\u001B[39;49m\u001B[43mmainloop\u001B[49m\u001B[43m(\u001B[49m\u001B[43m)\u001B[49m\n",
      "\u001B[1;31mKeyboardInterrupt\u001B[0m: "
     ]
    }
   ],
   "source": [
    "from turtle import *\n",
    "color ('red', 'yellow')\n",
    "begin_fill()\n",
    "while True:\n",
    "    forward(200)\n",
    "    left(170)\n",
    "    if abs(pos()) < 1:\n",
    "       break\n",
    "end_fill()\n",
    "done()"
   ]
  },
  {
   "cell_type": "code",
   "execution_count": 20,
   "id": "c4cdd08c",
   "metadata": {
    "pycharm": {
     "name": "#%%\n"
    }
   },
   "outputs": [],
   "source": [
    "from turtle import *\n",
    "\n",
    "wn = Screen()\n",
    "alex = Turtle()\n",
    "\n",
    "alex.forward(50)\n",
    "alex.left(90)\n",
    "alex.forward(30)\n",
    "\n",
    "wn.mainloop()"
   ]
  },
  {
   "cell_type": "code",
   "execution_count": 2,
   "id": "2bf35777",
   "metadata": {
    "pycharm": {
     "name": "#%%\n"
    }
   },
   "outputs": [
    {
     "ename": "Terminator",
     "evalue": "",
     "output_type": "error",
     "traceback": [
      "\u001B[1;31m---------------------------------------------------------------------------\u001B[0m",
      "\u001B[1;31mTerminator\u001B[0m                                Traceback (most recent call last)",
      "Input \u001B[1;32mIn [2]\u001B[0m, in \u001B[0;36m<cell line: 7>\u001B[1;34m()\u001B[0m\n\u001B[0;32m      4\u001B[0m wn\u001B[38;5;241m.\u001B[39mbgcolor(\u001B[38;5;124m\"\u001B[39m\u001B[38;5;124mlightblue\u001B[39m\u001B[38;5;124m\"\u001B[39m)\n\u001B[0;32m      5\u001B[0m wn\u001B[38;5;241m.\u001B[39mtitle(\u001B[38;5;124m\"\u001B[39m\u001B[38;5;124mXin chào, Tessi\u001B[39m\u001B[38;5;124m\"\u001B[39m)\n\u001B[1;32m----> 7\u001B[0m tess \u001B[38;5;241m=\u001B[39m \u001B[43mturtle\u001B[49m\u001B[38;5;241;43m.\u001B[39;49m\u001B[43mTurtle\u001B[49m\u001B[43m(\u001B[49m\u001B[43m)\u001B[49m\n\u001B[0;32m      8\u001B[0m tess\u001B[38;5;241m.\u001B[39mcolor(\u001B[38;5;124m\"\u001B[39m\u001B[38;5;124mred\u001B[39m\u001B[38;5;124m\"\u001B[39m)\n\u001B[0;32m      9\u001B[0m tess\u001B[38;5;241m.\u001B[39mpensize(\u001B[38;5;241m8\u001B[39m)\n",
      "File \u001B[1;32mD:\\ProgramData\\Anaconda3\\lib\\turtle.py:3815\u001B[0m, in \u001B[0;36mTurtle.__init__\u001B[1;34m(self, shape, undobuffersize, visible)\u001B[0m\n\u001B[0;32m   3813\u001B[0m \u001B[38;5;28;01mif\u001B[39;00m Turtle\u001B[38;5;241m.\u001B[39m_screen \u001B[38;5;129;01mis\u001B[39;00m \u001B[38;5;28;01mNone\u001B[39;00m:\n\u001B[0;32m   3814\u001B[0m     Turtle\u001B[38;5;241m.\u001B[39m_screen \u001B[38;5;241m=\u001B[39m Screen()\n\u001B[1;32m-> 3815\u001B[0m \u001B[43mRawTurtle\u001B[49m\u001B[38;5;241;43m.\u001B[39;49m\u001B[38;5;21;43m__init__\u001B[39;49m\u001B[43m(\u001B[49m\u001B[38;5;28;43mself\u001B[39;49m\u001B[43m,\u001B[49m\u001B[43m \u001B[49m\u001B[43mTurtle\u001B[49m\u001B[38;5;241;43m.\u001B[39;49m\u001B[43m_screen\u001B[49m\u001B[43m,\u001B[49m\n\u001B[0;32m   3816\u001B[0m \u001B[43m                   \u001B[49m\u001B[43mshape\u001B[49m\u001B[38;5;241;43m=\u001B[39;49m\u001B[43mshape\u001B[49m\u001B[43m,\u001B[49m\n\u001B[0;32m   3817\u001B[0m \u001B[43m                   \u001B[49m\u001B[43mundobuffersize\u001B[49m\u001B[38;5;241;43m=\u001B[39;49m\u001B[43mundobuffersize\u001B[49m\u001B[43m,\u001B[49m\n\u001B[0;32m   3818\u001B[0m \u001B[43m                   \u001B[49m\u001B[43mvisible\u001B[49m\u001B[38;5;241;43m=\u001B[39;49m\u001B[43mvisible\u001B[49m\u001B[43m)\u001B[49m\n",
      "File \u001B[1;32mD:\\ProgramData\\Anaconda3\\lib\\turtle.py:2558\u001B[0m, in \u001B[0;36mRawTurtle.__init__\u001B[1;34m(self, canvas, shape, undobuffersize, visible)\u001B[0m\n\u001B[0;32m   2556\u001B[0m \u001B[38;5;28mself\u001B[39m\u001B[38;5;241m.\u001B[39m_undobuffersize \u001B[38;5;241m=\u001B[39m undobuffersize\n\u001B[0;32m   2557\u001B[0m \u001B[38;5;28mself\u001B[39m\u001B[38;5;241m.\u001B[39mundobuffer \u001B[38;5;241m=\u001B[39m Tbuffer(undobuffersize)\n\u001B[1;32m-> 2558\u001B[0m \u001B[38;5;28;43mself\u001B[39;49m\u001B[38;5;241;43m.\u001B[39;49m\u001B[43m_update\u001B[49m\u001B[43m(\u001B[49m\u001B[43m)\u001B[49m\n",
      "File \u001B[1;32mD:\\ProgramData\\Anaconda3\\lib\\turtle.py:2661\u001B[0m, in \u001B[0;36mRawTurtle._update\u001B[1;34m(self)\u001B[0m\n\u001B[0;32m   2659\u001B[0m     \u001B[38;5;28;01mreturn\u001B[39;00m\n\u001B[0;32m   2660\u001B[0m \u001B[38;5;28;01melif\u001B[39;00m screen\u001B[38;5;241m.\u001B[39m_tracing \u001B[38;5;241m==\u001B[39m \u001B[38;5;241m1\u001B[39m:\n\u001B[1;32m-> 2661\u001B[0m     \u001B[38;5;28;43mself\u001B[39;49m\u001B[38;5;241;43m.\u001B[39;49m\u001B[43m_update_data\u001B[49m\u001B[43m(\u001B[49m\u001B[43m)\u001B[49m\n\u001B[0;32m   2662\u001B[0m     \u001B[38;5;28mself\u001B[39m\u001B[38;5;241m.\u001B[39m_drawturtle()\n\u001B[0;32m   2663\u001B[0m     screen\u001B[38;5;241m.\u001B[39m_update()                  \u001B[38;5;66;03m# TurtleScreenBase\u001B[39;00m\n",
      "File \u001B[1;32mD:\\ProgramData\\Anaconda3\\lib\\turtle.py:2647\u001B[0m, in \u001B[0;36mRawTurtle._update_data\u001B[1;34m(self)\u001B[0m\n\u001B[0;32m   2646\u001B[0m \u001B[38;5;28;01mdef\u001B[39;00m \u001B[38;5;21m_update_data\u001B[39m(\u001B[38;5;28mself\u001B[39m):\n\u001B[1;32m-> 2647\u001B[0m     \u001B[38;5;28;43mself\u001B[39;49m\u001B[38;5;241;43m.\u001B[39;49m\u001B[43mscreen\u001B[49m\u001B[38;5;241;43m.\u001B[39;49m\u001B[43m_incrementudc\u001B[49m\u001B[43m(\u001B[49m\u001B[43m)\u001B[49m\n\u001B[0;32m   2648\u001B[0m     \u001B[38;5;28;01mif\u001B[39;00m \u001B[38;5;28mself\u001B[39m\u001B[38;5;241m.\u001B[39mscreen\u001B[38;5;241m.\u001B[39m_updatecounter \u001B[38;5;241m!=\u001B[39m \u001B[38;5;241m0\u001B[39m:\n\u001B[0;32m   2649\u001B[0m         \u001B[38;5;28;01mreturn\u001B[39;00m\n",
      "File \u001B[1;32mD:\\ProgramData\\Anaconda3\\lib\\turtle.py:1293\u001B[0m, in \u001B[0;36mTurtleScreen._incrementudc\u001B[1;34m(self)\u001B[0m\n\u001B[0;32m   1291\u001B[0m \u001B[38;5;28;01mif\u001B[39;00m \u001B[38;5;129;01mnot\u001B[39;00m TurtleScreen\u001B[38;5;241m.\u001B[39m_RUNNING:\n\u001B[0;32m   1292\u001B[0m     TurtleScreen\u001B[38;5;241m.\u001B[39m_RUNNING \u001B[38;5;241m=\u001B[39m \u001B[38;5;28;01mTrue\u001B[39;00m\n\u001B[1;32m-> 1293\u001B[0m     \u001B[38;5;28;01mraise\u001B[39;00m Terminator\n\u001B[0;32m   1294\u001B[0m \u001B[38;5;28;01mif\u001B[39;00m \u001B[38;5;28mself\u001B[39m\u001B[38;5;241m.\u001B[39m_tracing \u001B[38;5;241m>\u001B[39m \u001B[38;5;241m0\u001B[39m:\n\u001B[0;32m   1295\u001B[0m     \u001B[38;5;28mself\u001B[39m\u001B[38;5;241m.\u001B[39m_updatecounter \u001B[38;5;241m+\u001B[39m\u001B[38;5;241m=\u001B[39m \u001B[38;5;241m1\u001B[39m\n",
      "\u001B[1;31mTerminator\u001B[0m: "
     ]
    }
   ],
   "source": [
    "import turtle\n",
    "\n",
    "wn = turtle.Screen()\n",
    "wn.bgcolor(\"lightblue\")\n",
    "wn.title(\"Xin chào, Tessi\")\n",
    "\n",
    "tess = turtle.Turtle()\n",
    "tess.color(\"red\")\n",
    "tess.pensize(8)\n",
    "\n",
    "for x in range(4):\n",
    "    tess.forward(50)\n",
    "    tess.left(90)\n",
    "    tess.forward(50)\n",
    "\n",
    "wn.mainloop()"
   ]
  },
  {
   "cell_type": "code",
   "execution_count": 4,
   "id": "d152966e",
   "metadata": {
    "pycharm": {
     "name": "#%%\n"
    }
   },
   "outputs": [],
   "source": [
    "# Vẽ hình tròn\n",
    "\n",
    "import turtle\n",
    "\n",
    "hinhtron = turtle.Turtle()\n",
    "\n",
    "hinhtron.fillcolor('red')\n",
    "hinhtron.begin_fill()\n",
    "hinhtron.circle(50)\n",
    "hinhtron.end_fill()\n"
   ]
  },
  {
   "cell_type": "code",
   "execution_count": 3,
   "metadata": {
    "collapsed": false,
    "pycharm": {
     "name": "#%%\n"
    }
   },
   "outputs": [],
   "source": [
    "# Vẽ hình *\n",
    "import turtle\n",
    "\n",
    "turtle.clear()\n",
    "\n",
    "hinhsao = turtle.Turtle()\n",
    "\n",
    "hinhsao.pencolor('yellow')\n",
    "hinhsao.pensize(5)\n",
    "\n",
    "for x in range(8):\n",
    "    hinhsao.forward(50) # đi\n",
    "\n",
    "    hinhsao.left(180) # quay đầu\n",
    "    hinhsao.forward(50) # về\n",
    "\n",
    "    hinhsao.left(135) # quay"
   ]
  },
  {
   "cell_type": "code",
   "execution_count": 1,
   "metadata": {
    "collapsed": false,
    "pycharm": {
     "name": "#%%\n"
    }
   },
   "outputs": [],
   "source": [
    "# Vẽ chong chong 6 cạnh\n",
    "import turtle\n",
    "\n",
    "turtle.clear()\n",
    "\n",
    "chongchong = turtle.Turtle()\n",
    "chongchong.pencolor('blue')\n",
    "chongchong.pensize(3)\n",
    "hexagon = turtle.Turtle()\n",
    "hexagon.pencolor('blue')\n",
    "hexagon.pensize(3)\n",
    "\n",
    "hexagon.forward(50)\n",
    "hexagon.left(60)\n",
    "hexagon.forward(100)\n",
    "hexagon.left(60)\n",
    "\n",
    "for x in range(6):\n",
    "    hexagon.forward(50)\n",
    "    chongchong.forward(50)\n",
    "    chongchong.left(60)\n",
    "    hexagon.left(60)\n",
    "    hexagon.forward(100)\n",
    "    chongchong.forward(100)\n",
    "    chongchong.left(120)\n",
    "    chongchong.forward(50)\n",
    "    chongchong.left(60)\n",
    "    chongchong.forward(100)\n",
    "    chongchong.left(180)"
   ]
  },
  {
   "cell_type": "code",
   "execution_count": 1,
   "metadata": {
    "collapsed": false,
    "pycharm": {
     "name": "#%%\n"
    }
   },
   "outputs": [
    {
     "ename": "Terminator",
     "evalue": "",
     "output_type": "error",
     "traceback": [
      "\u001B[1;31m---------------------------------------------------------------------------\u001B[0m",
      "\u001B[1;31mTerminator\u001B[0m                                Traceback (most recent call last)",
      "Cell \u001B[1;32mIn [1], line 11\u001B[0m\n\u001B[0;32m      9\u001B[0m \u001B[39mfor\u001B[39;00m i \u001B[39min\u001B[39;00m \u001B[39mrange\u001B[39m(\u001B[39m60\u001B[39m) :\n\u001B[0;32m     10\u001B[0m     dongho\u001B[39m.\u001B[39mpenup()\n\u001B[1;32m---> 11\u001B[0m     dongho\u001B[39m.\u001B[39;49mforward(\u001B[39m100\u001B[39;49m)\n\u001B[0;32m     12\u001B[0m     dongho\u001B[39m.\u001B[39mpendown()\n\u001B[0;32m     14\u001B[0m     dongho\u001B[39m.\u001B[39mforward(\u001B[39m10\u001B[39m)\n",
      "File \u001B[1;32mC:\\Program Files\\WindowsApps\\PythonSoftwareFoundation.Python.3.10_3.10.2032.0_x64__qbz5n2kfra8p0\\lib\\turtle.py:1638\u001B[0m, in \u001B[0;36mTNavigator.forward\u001B[1;34m(self, distance)\u001B[0m\n\u001B[0;32m   1617\u001B[0m \u001B[39mdef\u001B[39;00m \u001B[39mforward\u001B[39m(\u001B[39mself\u001B[39m, distance):\n\u001B[0;32m   1618\u001B[0m     \u001B[39m\"\"\"Move the turtle forward by the specified distance.\u001B[39;00m\n\u001B[0;32m   1619\u001B[0m \n\u001B[0;32m   1620\u001B[0m \u001B[39m    Aliases: forward | fd\u001B[39;00m\n\u001B[1;32m   (...)\u001B[0m\n\u001B[0;32m   1636\u001B[0m \u001B[39m    (-50.00,0.00)\u001B[39;00m\n\u001B[0;32m   1637\u001B[0m \u001B[39m    \"\"\"\u001B[39;00m\n\u001B[1;32m-> 1638\u001B[0m     \u001B[39mself\u001B[39;49m\u001B[39m.\u001B[39;49m_go(distance)\n",
      "File \u001B[1;32mC:\\Program Files\\WindowsApps\\PythonSoftwareFoundation.Python.3.10_3.10.2032.0_x64__qbz5n2kfra8p0\\lib\\turtle.py:1606\u001B[0m, in \u001B[0;36mTNavigator._go\u001B[1;34m(self, distance)\u001B[0m\n\u001B[0;32m   1604\u001B[0m \u001B[39m\"\"\"move turtle forward by specified distance\"\"\"\u001B[39;00m\n\u001B[0;32m   1605\u001B[0m ende \u001B[39m=\u001B[39m \u001B[39mself\u001B[39m\u001B[39m.\u001B[39m_position \u001B[39m+\u001B[39m \u001B[39mself\u001B[39m\u001B[39m.\u001B[39m_orient \u001B[39m*\u001B[39m distance\n\u001B[1;32m-> 1606\u001B[0m \u001B[39mself\u001B[39;49m\u001B[39m.\u001B[39;49m_goto(ende)\n",
      "File \u001B[1;32mC:\\Program Files\\WindowsApps\\PythonSoftwareFoundation.Python.3.10_3.10.2032.0_x64__qbz5n2kfra8p0\\lib\\turtle.py:3181\u001B[0m, in \u001B[0;36mRawTurtle._goto\u001B[1;34m(self, end)\u001B[0m\n\u001B[0;32m   3177\u001B[0m     \u001B[39mif\u001B[39;00m \u001B[39mself\u001B[39m\u001B[39m.\u001B[39m_drawing:\n\u001B[0;32m   3178\u001B[0m         screen\u001B[39m.\u001B[39m_drawline(\u001B[39mself\u001B[39m\u001B[39m.\u001B[39mdrawingLineItem,\n\u001B[0;32m   3179\u001B[0m                          (start, \u001B[39mself\u001B[39m\u001B[39m.\u001B[39m_position),\n\u001B[0;32m   3180\u001B[0m                          \u001B[39mself\u001B[39m\u001B[39m.\u001B[39m_pencolor, \u001B[39mself\u001B[39m\u001B[39m.\u001B[39m_pensize, top)\n\u001B[1;32m-> 3181\u001B[0m     \u001B[39mself\u001B[39;49m\u001B[39m.\u001B[39;49m_update()\n\u001B[0;32m   3182\u001B[0m \u001B[39mif\u001B[39;00m \u001B[39mself\u001B[39m\u001B[39m.\u001B[39m_drawing:\n\u001B[0;32m   3183\u001B[0m     screen\u001B[39m.\u001B[39m_drawline(\u001B[39mself\u001B[39m\u001B[39m.\u001B[39mdrawingLineItem, ((\u001B[39m0\u001B[39m, \u001B[39m0\u001B[39m), (\u001B[39m0\u001B[39m, \u001B[39m0\u001B[39m)),\n\u001B[0;32m   3184\u001B[0m                                    fill\u001B[39m=\u001B[39m\u001B[39m\"\u001B[39m\u001B[39m\"\u001B[39m, width\u001B[39m=\u001B[39m\u001B[39mself\u001B[39m\u001B[39m.\u001B[39m_pensize)\n",
      "File \u001B[1;32mC:\\Program Files\\WindowsApps\\PythonSoftwareFoundation.Python.3.10_3.10.2032.0_x64__qbz5n2kfra8p0\\lib\\turtle.py:2661\u001B[0m, in \u001B[0;36mRawTurtle._update\u001B[1;34m(self)\u001B[0m\n\u001B[0;32m   2659\u001B[0m     \u001B[39mreturn\u001B[39;00m\n\u001B[0;32m   2660\u001B[0m \u001B[39melif\u001B[39;00m screen\u001B[39m.\u001B[39m_tracing \u001B[39m==\u001B[39m \u001B[39m1\u001B[39m:\n\u001B[1;32m-> 2661\u001B[0m     \u001B[39mself\u001B[39;49m\u001B[39m.\u001B[39;49m_update_data()\n\u001B[0;32m   2662\u001B[0m     \u001B[39mself\u001B[39m\u001B[39m.\u001B[39m_drawturtle()\n\u001B[0;32m   2663\u001B[0m     screen\u001B[39m.\u001B[39m_update()                  \u001B[39m# TurtleScreenBase\u001B[39;00m\n",
      "File \u001B[1;32mC:\\Program Files\\WindowsApps\\PythonSoftwareFoundation.Python.3.10_3.10.2032.0_x64__qbz5n2kfra8p0\\lib\\turtle.py:2647\u001B[0m, in \u001B[0;36mRawTurtle._update_data\u001B[1;34m(self)\u001B[0m\n\u001B[0;32m   2646\u001B[0m \u001B[39mdef\u001B[39;00m \u001B[39m_update_data\u001B[39m(\u001B[39mself\u001B[39m):\n\u001B[1;32m-> 2647\u001B[0m     \u001B[39mself\u001B[39;49m\u001B[39m.\u001B[39;49mscreen\u001B[39m.\u001B[39;49m_incrementudc()\n\u001B[0;32m   2648\u001B[0m     \u001B[39mif\u001B[39;00m \u001B[39mself\u001B[39m\u001B[39m.\u001B[39mscreen\u001B[39m.\u001B[39m_updatecounter \u001B[39m!=\u001B[39m \u001B[39m0\u001B[39m:\n\u001B[0;32m   2649\u001B[0m         \u001B[39mreturn\u001B[39;00m\n",
      "File \u001B[1;32mC:\\Program Files\\WindowsApps\\PythonSoftwareFoundation.Python.3.10_3.10.2032.0_x64__qbz5n2kfra8p0\\lib\\turtle.py:1293\u001B[0m, in \u001B[0;36mTurtleScreen._incrementudc\u001B[1;34m(self)\u001B[0m\n\u001B[0;32m   1291\u001B[0m \u001B[39mif\u001B[39;00m \u001B[39mnot\u001B[39;00m TurtleScreen\u001B[39m.\u001B[39m_RUNNING:\n\u001B[0;32m   1292\u001B[0m     TurtleScreen\u001B[39m.\u001B[39m_RUNNING \u001B[39m=\u001B[39m \u001B[39mTrue\u001B[39;00m\n\u001B[1;32m-> 1293\u001B[0m     \u001B[39mraise\u001B[39;00m Terminator\n\u001B[0;32m   1294\u001B[0m \u001B[39mif\u001B[39;00m \u001B[39mself\u001B[39m\u001B[39m.\u001B[39m_tracing \u001B[39m>\u001B[39m \u001B[39m0\u001B[39m:\n\u001B[0;32m   1295\u001B[0m     \u001B[39mself\u001B[39m\u001B[39m.\u001B[39m_updatecounter \u001B[39m+\u001B[39m\u001B[39m=\u001B[39m \u001B[39m1\u001B[39m\n",
      "\u001B[1;31mTerminator\u001B[0m: "
     ]
    }
   ],
   "source": [
    "# Vẽ \n",
    "import turtle\n",
    "dongho = turtle.Pen()\n",
    "dongho.shape('turtle')\n",
    "\n",
    "dongho.color(\"blue\")\n",
    "dongho.stamp()\n",
    "\n",
    "for i in range(60) :\n",
    "    dongho.penup()\n",
    "    dongho.forward(100)\n",
    "    dongho.pendown()\n",
    "    \n",
    "    dongho.forward(10)\n",
    "    \n",
    "    if (i % 5 == 0) :\n",
    "        dongho.penup()\n",
    "        dongho.forward(20)\n",
    "        dongho.stamp()\n",
    "    \n",
    "    dongho.penup()\n",
    "    dongho.goto(0,0)\n",
    "    dongho.right(6)\n",
    "    \n",
    "turtle.exitonclick()\n"
   ]
  }
 ],
 "metadata": {
  "kernelspec": {
   "display_name": "Python 3.10.7 64-bit (microsoft store)",
   "language": "python",
   "name": "python3"
  },
  "language_info": {
   "codemirror_mode": {
    "name": "ipython",
    "version": 3
   },
   "file_extension": ".py",
   "mimetype": "text/x-python",
   "name": "python",
   "nbconvert_exporter": "python",
   "pygments_lexer": "ipython3",
   "version": "3.10.7"
  },
  "vscode": {
   "interpreter": {
    "hash": "58dbfdb34cf82127b32c5737e6183911655ff227e5c11e8f5e4b25048ae98ef2"
   }
  }
 },
 "nbformat": 4,
 "nbformat_minor": 5
}
