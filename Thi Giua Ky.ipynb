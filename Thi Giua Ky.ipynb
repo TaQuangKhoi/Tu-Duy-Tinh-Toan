{
 "cells": [
  {
   "cell_type": "code",
   "execution_count": 1,
   "metadata": {
    "collapsed": true
   },
   "outputs": [],
   "source": [
    "# Câu 1\n",
    "import turtle\n",
    "\n",
    "mausac = [\"red\", \"green\", \"blue\", \"orange\", \"pink\", \"yellow\"]\n",
    "\n",
    "# Lục giác\n",
    "lg = turtle.Pen()\n",
    "\n",
    "for i in range(6):\n",
    "    lg.color(mausac[i])\n",
    "    lg.forward(50)\n",
    "    lg.left(60)"
   ]
  },
  {
   "cell_type": "code",
   "execution_count": 3,
   "outputs": [
    {
     "ename": "ValueError",
     "evalue": "invalid literal for int() with base 10: ''",
     "output_type": "error",
     "traceback": [
      "\u001B[1;31m---------------------------------------------------------------------------\u001B[0m",
      "\u001B[1;31mValueError\u001B[0m                                Traceback (most recent call last)",
      "Input \u001B[1;32mIn [3]\u001B[0m, in \u001B[0;36m<cell line: 8>\u001B[1;34m()\u001B[0m\n\u001B[0;32m      4\u001B[0m     n \u001B[38;5;241m=\u001B[39m \u001B[38;5;28minput\u001B[39m(\u001B[38;5;124m\"\u001B[39m\u001B[38;5;124mNhập lại đúng định dạng số tự nhiên n\u001B[39m\u001B[38;5;124m\"\u001B[39m)\n\u001B[0;32m      6\u001B[0m tong \u001B[38;5;241m=\u001B[39m \u001B[38;5;241m0\u001B[39m\n\u001B[1;32m----> 8\u001B[0m \u001B[38;5;28;01mfor\u001B[39;00m i \u001B[38;5;129;01min\u001B[39;00m \u001B[38;5;28mrange\u001B[39m(\u001B[38;5;28;43mint\u001B[39;49m\u001B[43m(\u001B[49m\u001B[43mn\u001B[49m\u001B[43m)\u001B[49m\u001B[38;5;241m+\u001B[39m\u001B[38;5;241m1\u001B[39m):\n\u001B[0;32m      9\u001B[0m     tong \u001B[38;5;241m=\u001B[39m tong \u001B[38;5;241m+\u001B[39m (i\u001B[38;5;241m*\u001B[39m\u001B[38;5;241m*\u001B[39m\u001B[38;5;241m2\u001B[39m)\n\u001B[0;32m     10\u001B[0m \u001B[38;5;28mprint\u001B[39m(tong)\n",
      "\u001B[1;31mValueError\u001B[0m: invalid literal for int() with base 10: ''"
     ]
    }
   ],
   "source": [
    "# Câu 2\n",
    "n = input(\"Nhập số tự nhiên n\")\n",
    "while n.isalpha():\n",
    "    n = input(\"Nhập lại đúng định dạng số tự nhiên n\")\n",
    "\n",
    "tong = 0\n",
    "\n",
    "for i in range(int(n)+1):\n",
    "    tong = tong + (i**2)\n",
    "print(tong)"
   ],
   "metadata": {
    "collapsed": false
   }
  },
  {
   "cell_type": "code",
   "execution_count": 4,
   "outputs": [],
   "source": [
    "# Câu 3\n",
    "import turtle\n",
    "hv = turtle.Pen()\n",
    "sohv = input(\"Nhập số hình vuông: \")\n",
    "while sohv.isalpha():\n",
    "    sohv = input(\"Nhập lại đúng định dạng số hình vuông\")\n",
    "def cau3(n = 1):\n",
    "    canh = 50\n",
    "    for i in range(n):\n",
    "        for x in range(4):\n",
    "            hv.forward(canh)\n",
    "            hv.left(90)\n",
    "        canh = canh + 20\n",
    "        hv.right(90)\n",
    "        hv.penup()\n",
    "        hv.forward(10)\n",
    "        hv.right(90)\n",
    "        hv.forward(10)\n",
    "        hv.right(180)\n",
    "        hv.pendown()\n",
    "cau3(int(sohv))"
   ],
   "metadata": {
    "collapsed": false
   }
  },
  {
   "cell_type": "code",
   "execution_count": 2,
   "outputs": [],
   "source": [
    "# Câu 4\n",
    "import turtle\n",
    "sohv = input(\"Nhập số hình vuông: \")\n",
    "while sohv.isalpha():\n",
    "    sohv = input(\"Nhập lại đúng định dạng số hình vuông\")\n",
    "hv = turtle.Pen()\n",
    "xoay = 360 / int(sohv)\n",
    "def cau4(n = 1):\n",
    "    for i in range(n):\n",
    "        for x in range(4):\n",
    "            hv.forward(50)\n",
    "            hv.left(90)\n",
    "        hv.left(xoay)\n",
    "cau4(int(sohv))"
   ],
   "metadata": {
    "collapsed": false
   }
  }
 ],
 "metadata": {
  "kernelspec": {
   "display_name": "Python 3",
   "language": "python",
   "name": "python3"
  },
  "language_info": {
   "codemirror_mode": {
    "name": "ipython",
    "version": 2
   },
   "file_extension": ".py",
   "mimetype": "text/x-python",
   "name": "python",
   "nbconvert_exporter": "python",
   "pygments_lexer": "ipython2",
   "version": "2.7.6"
  }
 },
 "nbformat": 4,
 "nbformat_minor": 0
}
