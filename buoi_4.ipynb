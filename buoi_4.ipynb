{
 "cells": [
  {
   "cell_type": "code",
   "execution_count": 30,
   "id": "a6999a01",
   "metadata": {
    "scrolled": true,
    "pycharm": {
     "name": "#%%\n"
    }
   },
   "outputs": [
    {
     "name": "stdout",
     "output_type": "stream",
     "text": [
      "So nguyen tạo duoc,  1\n",
      "So thuc tạo duoc,  0.6729620238640166\n"
     ]
    }
   ],
   "source": [
    "from random import randint, uniform\n",
    "x = randint(-10,10)\n",
    "y = uniform(-100, 100)\n",
    "print(\"So nguyen tạo duoc, \",x)\n",
    "print(\"So thuc tạo duoc, \",y)"
   ]
  },
  {
   "cell_type": "code",
   "execution_count": 33,
   "id": "11ee9342",
   "metadata": {
    "pycharm": {
     "name": "#%%\n"
    }
   },
   "outputs": [
    {
     "name": "stdout",
     "output_type": "stream",
     "text": [
      "Häy nhap mot só nguyên:5\n",
      "5  là só lẽ.\n",
      "Ben có biét rang nhan hai só lé luón luon cho két quá là só lé?\n"
     ]
    }
   ],
   "source": [
    "x = int(input(\"Häy nhap mot só nguyên:\"))\n",
    "if x % 2 == 0:\n",
    "    print(x, \"là số chẵn.\")\n",
    "    print(\"Ban có biét rang 2 là só chan duy nhat là só nguyèn to?\")\n",
    "else:\n",
    "    print(x, \" là só lẽ.\")\n",
    "    print(\"Ben có biét rang nhan hai só lẽ luón luon cho két quá là só lé?\")\n"
   ]
  },
  {
   "cell_type": "code",
   "execution_count": null,
   "id": "4cbf0b06",
   "metadata": {
    "pycharm": {
     "name": "#%%\n"
    }
   },
   "outputs": [],
   "source": [
    "import math\n",
    "x = int ( input ( \" Hãy nhập một số nguyên dương : \" ) )\n",
    "if x < 0 :               \n",
    "    print ( \" Đâylà số âm \" , x , \" không hợp lệ ở đây \" )\n",
    "    x = 12\n",
    "               sẽ sử dụng số 12 để thay thế \" )\n",
    "print ( \" Căn bậc hai của \" , x , \" là \" , math.sqrt ( x ) )\n",
    "    \n",
    "    \n",
    "    print ( \" Vậy"
   ]
  },
  {
   "cell_type": "markdown",
   "id": "b83c247d",
   "metadata": {
    "pycharm": {
     "name": "#%% md\n"
    }
   },
   "source": [
    "Biến X để lưu tinh trang gửi SMS , X = 0 tức là chưa gửi được , X = 1 tức là\n",
    "đã gửi thành công . X = 2 tức là đã gửi và người nhận đã đọc . Viết câu lệnh sử dụng phép toán if đề in ra màn hình thông báo tương ứng với giá trị của X."
   ]
  },
  {
   "cell_type": "code",
   "execution_count": 44,
   "id": "0c6be040",
   "metadata": {
    "pycharm": {
     "name": "#%%\n"
    }
   },
   "outputs": [
    {
     "name": "stdout",
     "output_type": "stream",
     "text": [
      "Gia tri:2\n",
      "Seen\n"
     ]
    }
   ],
   "source": [
    "x = int(input(\"Gia tri:\"))\n",
    "if x == 0:\n",
    "    print(\"Chua gui duoc\")\n",
    "elif x == 1:\n",
    "    print(\"Gui thanh cong\")\n",
    "elif x == 2:\n",
    "    print(\"Seen\")\n",
    "else:\n",
    "    print(\"Undefined\")"
   ]
  },
  {
   "cell_type": "markdown",
   "id": "5bd0d7eb",
   "metadata": {
    "pycharm": {
     "name": "#%% md\n"
    }
   },
   "source": [
    "2. Nãm nhuân là năm mà giá tri cua nó thoa mãn diêu kiên chia hêt cho 400 hoặc chia hêt cho 4 nhưng không chia hêt cho 100. Viet chu'o'ng trinh kiêm tra."
   ]
  },
  {
   "cell_type": "code",
   "execution_count": null,
   "id": "b33c365a",
   "metadata": {
    "pycharm": {
     "name": "#%%\n"
    }
   },
   "outputs": [],
   "source": [
    "year = int(input(\"Năm:\"))\n",
    "if year%400 == 0:\n",
    "    print"
   ]
  },
  {
   "cell_type": "markdown",
   "id": "e4bd9252",
   "metadata": {
    "pycharm": {
     "name": "#%% md\n"
    }
   },
   "source": [
    "3. Vē SO' do thuât toán và viet chương trinh хếр loai hoc sinh theo diêm trung bình cua diêm toán, ly, hóa, sinh, tin. Biêt rang DTB >=9: Xuat sãc; 8=<DTB<9: Gioi; 7=<DTB<8: Khá; 5=<DTB<7: Trung binh; DTB<5: Yeu."
   ]
  },
  {
   "cell_type": "code",
   "execution_count": null,
   "id": "baf41a14",
   "metadata": {
    "pycharm": {
     "name": "#%%\n"
    }
   },
   "outputs": [],
   "source": [
    "toan = float(input(\"Toán: \"))\n",
    "ly = float(input(\"Lý: \"))\n",
    "hoa = float(input(\"Hóa: \"))\n",
    "sinh = float(input(\"Sinh: \"))\n",
    "tin = float(input(\"Tin: \"))\n",
    "\n",
    "print(toan, ly, hoa, sinh, tin)\n",
    "\n",
    "dtb = (toan+ly+hoa+sinh+tin)/5\n",
    "\n",
    "print(dtb)\n",
    "\n",
    "if dtb >= 9 and dtb <= 10:\n",
    "    print(\"Xuất sắc\")\n",
    "elif dtb >=8 and dtb<9:\n",
    "    print(\"Giỏi\")\n",
    "elif dtb >= 7:\n",
    "    print(\"Khá\")\n",
    "elif dtb >= 5:\n",
    "    print(\"Trung bình\")\n",
    "elif dtb < 5 and dtb >= 0:\n",
    "    print(\"Yếu\")"
   ]
  },
  {
   "cell_type": "markdown",
   "id": "7ff249df",
   "metadata": {
    "pycharm": {
     "name": "#%% md\n"
    }
   },
   "source": [
    "Nhập ba số a , b , c . Kiểm tra xem 3 số này có tạo thành độ dài của một tam giác\n",
    "hay không . Nếu là ta cạnh của tam giác thì tam giác đó là tam giác đều , vuông\n",
    "hay thường ? Hủy về sơ đồ thuật toán và viết chương trình ."
   ]
  },
  {
   "cell_type": "code",
   "execution_count": 63,
   "id": "86dcfa0b",
   "metadata": {
    "pycharm": {
     "name": "#%%\n"
    }
   },
   "outputs": [
    {
     "name": "stdout",
     "output_type": "stream",
     "text": [
      "Cạnh a: 3\n",
      "Cạnh b: 3\n",
      "Cạnh c: 4\n",
      "Là tam giác cân\n"
     ]
    }
   ],
   "source": [
    "a = float(input(\"Cạnh a: \"))\n",
    "b = float(input(\"Cạnh b: \"))\n",
    "c = float(input(\"Cạnh c: \"))\n",
    "\n",
    "isTamGiac = a+b>c and a+c>b and b+c>a\n",
    "isCan = isTamGiac and (a==b or a==c or b==c)\n",
    "isVuong = isTamGiac and (a*a==b*b+c*c or b*b==a*a+c*c or c*c==b*b+a*a)\n",
    "isDeu = a==b==c\n",
    "\n",
    "if isDeu :\n",
    "    print(\"Là tam giác đều\")\n",
    "elif isVuong :\n",
    "    print(\"Là tam giác vuông\")\n",
    "elif isCan:\n",
    "    print(\"Là tam giác cân\")\n",
    "elif isTamGiac and isDeu==False and isVuong==False:\n",
    "    print(\"Là tam giác thường\")\n",
    "else:\n",
    "    print(\"Không phải tam giác\")"
   ]
  },
  {
   "cell_type": "markdown",
   "id": "dc761a01",
   "metadata": {
    "pycharm": {
     "name": "#%% md\n"
    }
   },
   "source": [
    "# Bài tập về nhà"
   ]
  },
  {
   "cell_type": "markdown",
   "id": "8b8decc6",
   "metadata": {
    "pycharm": {
     "name": "#%% md\n"
    }
   },
   "source": [
    "Giao hai hình chữ nhật\n",
    "Cho hai hình chữ nhật có cạnh song song hoặc trùng với các trục tọa độ. Hình chữ nhật thứ nhất được xác định bởi điểm trái dưới A(xA,yA) và điểm phải trên B(xB,yB). Hình chữ nhật thứ hai được xác định bởi điểm trái dưới C(xC,yC) và điểm phải trên D(xD,yD). Xét xem hai hình chữ nhật có giao nhau hay không? Nếu giao nhau (có điểm trong chung) thì tính diện tích phần giao nhau.\n"
   ]
  },
  {
   "cell_type": "code",
   "execution_count": 4,
   "id": "c98a2dfc",
   "metadata": {
    "pycharm": {
     "name": "#%%\n"
    }
   },
   "outputs": [
    {
     "name": "stdout",
     "output_type": "stream",
     "text": [
      "2 hình giao nhau\n"
     ]
    }
   ],
   "source": [
    "class Point:\n",
    "    x = 0\n",
    "    y = 0\n",
    "\n",
    "\n",
    "A = Point()\n",
    "B = Point()\n",
    "C = Point()\n",
    "D = Point()\n",
    "\n",
    "A.x = 0\n",
    "A.y = 0\n",
    "\n",
    "B.x = 1\n",
    "B.y = 2\n",
    "\n",
    "# Tính độ dài cạnh\n",
    "def Canh(ax, bx):\n",
    "    if ax > bx :\n",
    "        d = ax - bx\n",
    "    else:\n",
    "        d = bx - ax\n",
    "    return d\n",
    "    \n",
    "# Lớp Hinh Chu Nhat\n",
    "class hcn:\n",
    "    A = Point()\n",
    "    B = Point()\n",
    "    c1 = Canh(B.x,A.x)\n",
    "    c2 = Canh(B.y,A.y)\n",
    "    \n",
    "    def __init__ (self, ax, ay, bx, by):\n",
    "        self.A.x = ax\n",
    "        A.y = ay\n",
    "        B.x = bx\n",
    "        B.y = by\n",
    "    \n",
    "    def getC1(self):\n",
    "        canh1 = Canh(B.x,A.x)\n",
    "        return canh1\n",
    "    \n",
    "    def getC2(self):\n",
    "        canh1 = Canh(B.y,A.y)\n",
    "        return canh1\n",
    "    \n",
    "    def getAx(self):\n",
    "        value = str(self.A.x)\n",
    "        return value\n",
    "    \n",
    "    def getAy(self):\n",
    "        return A.y\n",
    "    \n",
    "    def getBx(self):\n",
    "        return B.x\n",
    "    \n",
    "    def getBy(self):\n",
    "        return B.y\n",
    "    \n",
    "    def isGiao (self, hcn2):\n",
    "        ketqua = False\n",
    "        # Nếu khoảng cách 2 chiều giữa 2 điểm nhỏ hơn 2 cạnh thì giao nhau\n",
    "        x1 = self.A.x\n",
    "        y1 = self.A.y\n",
    "        w1 = self.B.x\n",
    "        h1 = self.B.y\n",
    "        \n",
    "        x2 = hcn2.A.x\n",
    "        y2 = hcn2.A.y\n",
    "        w2 = hcn2.B.x\n",
    "        h2 = hcn2.B.y\n",
    "        \n",
    "        if ((x1+w1 >= x2) and (x2+w2 >= x1) and (y1+w1 >= y2) and (y2+w2 >= y1)):\n",
    "            ketqua = True\n",
    "        \n",
    "        return ketqua\n",
    "\n",
    "    def DienTichGiaoNhau(self, hcn2) :\n",
    "        khoangcachx = min(self.B.x, hcn2.B.x) - max(self.A.x, )\n",
    "\n",
    "\n",
    "def main():\n",
    "    ax = int(input(\"Nhập tọa độ x điểm A\"))\n",
    "    ay = int(input(\"Nhập tọa độ y điểm A\"))\n",
    "    bx = int(input(\"Nhập tọa độ x điểm B\"))\n",
    "    by = int(input(\"Nhập tọa độ y điểm B\"))\n",
    "    \n",
    "    cx = int(input(\"Nhập tọa độ x điểm C\"))\n",
    "    cy = int(input(\"Nhập tọa độ y điểm C\"))\n",
    "    dx = int(input(\"Nhập tọa độ x điểm D\"))\n",
    "    dy = int(input(\"Nhập tọa độ y điểm D\"))\n",
    "    \n",
    "    HinhCN1 = hcn(ax,ay,bx,by)\n",
    "    HinhCN2 = hcn(cx,cy,dx,dy)\n",
    "\n",
    "    if (HinhCN1.isGiao(HinhCN2)):\n",
    "        print(\"2 hình giao nhau\")\n",
    "    else:\n",
    "        print(\"Deo giao\")\n",
    "\n",
    "main()"
   ]
  },
  {
   "cell_type": "code",
   "execution_count": null,
   "id": "27f94fb4",
   "metadata": {
    "pycharm": {
     "name": "#%%\n"
    }
   },
   "outputs": [],
   "source": []
  }
 ],
 "metadata": {
  "kernelspec": {
   "display_name": "Python 3 (ipykernel)",
   "language": "python",
   "name": "python3"
  },
  "language_info": {
   "codemirror_mode": {
    "name": "ipython",
    "version": 3
   },
   "file_extension": ".py",
   "mimetype": "text/x-python",
   "name": "python",
   "nbconvert_exporter": "python",
   "pygments_lexer": "ipython3",
   "version": "3.9.12"
  }
 },
 "nbformat": 4,
 "nbformat_minor": 5
}