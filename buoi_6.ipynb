{
 "cells": [
  {
   "cell_type": "code",
   "execution_count": 2,
   "metadata": {
    "collapsed": true
   },
   "outputs": [
    {
     "name": "stdout",
     "output_type": "stream",
     "text": [
      "iohk\n"
     ]
    }
   ],
   "source": [
    "def string_reserve1(str_param):\n",
    "    s = list(str_param)\n",
    "    s.reverse()\n",
    "    new_s = ''.join(s)\n",
    "    return new_s\n",
    "\n",
    "print(string_reserve1('khoi'))"
   ]
  },
  {
   "cell_type": "code",
   "execution_count": 3,
   "outputs": [
    {
     "name": "stdout",
     "output_type": "stream",
     "text": [
      "iohk\n"
     ]
    }
   ],
   "source": [
    "def string_reserve2(str_param):\n",
    "    return str_param[::-1]\n",
    "\n",
    "print(string_reserve2('khoi'))"
   ],
   "metadata": {
    "collapsed": false
   }
  },
  {
   "cell_type": "code",
   "execution_count": 43,
   "outputs": [
    {
     "name": "stdout",
     "output_type": "stream",
     "text": [
      "1 4 5 "
     ]
    }
   ],
   "source": [
    "# 1. Viết chương trình cho phép người dùng nhập vào một dãy số tự nhiên ( không biết trước độ dài ) , việc nhập dãy sẽ kết thúc khi người dùng nhập một số âm nào đó .\n",
    "def day_so_khong_am():\n",
    "    number = 0\n",
    "    numbers = []\n",
    "    while number >= 0:\n",
    "        number = int(input (\"Nhập số: \"))\n",
    "        if number < 0:\n",
    "            for number in numbers:\n",
    "                print(number, end = ' ')\n",
    "            break\n",
    "        else:\n",
    "            numbers.append(number)\n",
    "\n",
    "day_so_khong_am()"
   ],
   "metadata": {
    "collapsed": false
   }
  },
  {
   "cell_type": "code",
   "execution_count": 67,
   "outputs": [
    {
     "name": "stdout",
     "output_type": "stream",
     "text": [
      "Số 1  không là số nguyên tố\n"
     ]
    }
   ],
   "source": [
    "# 2. Viết hàm isPrime kiểm tra xem N có phải là số nguyên tố hay không ?\n",
    "\n",
    "def is_prime(n):\n",
    "    ketqua = 0\n",
    "    if n <= 1:\n",
    "        return False\n",
    "    elif n == 2 or n == 3:\n",
    "        return True\n",
    "    else:\n",
    "        for sochia in range(2,n-1):\n",
    "            if (n % sochia) == 0:\n",
    "                ketqua = ketqua + 1\n",
    "                break\n",
    "        if ketqua > 0:\n",
    "            return False\n",
    "        else:\n",
    "            return True\n",
    "\n",
    "so = int(input('Nhập: '))\n",
    "if is_prime(so):\n",
    "    print('Số', so, 'là số nguyên tố')\n",
    "else:\n",
    "    print('Số', so, ' không là số nguyên tố')"
   ],
   "metadata": {
    "collapsed": false
   }
  },
  {
   "cell_type": "code",
   "execution_count": 68,
   "outputs": [
    {
     "name": "stdout",
     "output_type": "stream",
     "text": [
      "Các số nguyên tố trong dãy từ 1 đến 10 là\n",
      "2 3 5 7 "
     ]
    }
   ],
   "source": [
    "# 3. Viết chương trình nhập hai số A và B , in ra tất cả các số nguyên tố nằm trong khoảng [ A , B ] .\n",
    "\n",
    "a1 = int(input(\"Nhập a: \"))\n",
    "b1 = int(input('Nhập b: '))\n",
    "\n",
    "def prime_range(batdau, ketthuc):\n",
    "    print('Các số nguyên tố trong dãy từ', batdau, 'đến', ketthuc, 'là')\n",
    "    for songuyento in range(batdau,ketthuc):\n",
    "        if is_prime(songuyento):\n",
    "            print(songuyento, end = ' ')\n",
    "\n",
    "prime_range(a1, b1)"
   ],
   "metadata": {
    "collapsed": false
   }
  },
  {
   "cell_type": "code",
   "execution_count": 50,
   "outputs": [
    {
     "name": "stdout",
     "output_type": "stream",
     "text": [
      "Ước chung lớn nhất là:  2\n",
      "Bội chung nhỏ nhất là:  30.0\n"
     ]
    }
   ],
   "source": [
    "# 4. Nhập 2 số A và B , tính và in ra màn hình ước số chung lớn nhất và bội số chung nhỏ nhất của hai số đó.\n",
    "\n",
    "a = int(input(\"Nhập a: \"))\n",
    "b = int(input('Nhập b: '))\n",
    "\n",
    "def uoc_chung_lon_nhat(so1, so2):\n",
    "    if so1 == 0 or so2 == 0:\n",
    "        return so1 + so2\n",
    "    while so1 != so2:\n",
    "        if so1 > so2:\n",
    "            so1 = so1 - so2\n",
    "        else:\n",
    "            so2 = so2 - so1\n",
    "    return so1\n",
    "\n",
    "def boi_chung_nho_nhat(sob1, sob2):\n",
    "    if sob1 > 0 and sob2 > 0:\n",
    "        return (sob1*sob2) / uoc_chung_lon_nhat(sob1, sob2)\n",
    "    else:\n",
    "        return 0\n",
    "\n",
    "print('Ước chung lớn nhất là: ', uoc_chung_lon_nhat(a,b))\n",
    "print('Bội chung nhỏ nhất là: ', boi_chung_nho_nhat(a,b))\n"
   ],
   "metadata": {
    "collapsed": false
   }
  },
  {
   "cell_type": "code",
   "execution_count": 51,
   "outputs": [
    {
     "name": "stdout",
     "output_type": "stream",
     "text": [
      "Nhập diểm A\n",
      "Nhập diểm B\n",
      "Nhập diểm C\n",
      "Là tam giác cân\n"
     ]
    }
   ],
   "source": [
    "# 5. Nhập tọa độ 3 điểm A , B và C trên mặt phẳng 2 chiều . Hãy kiểm tra và chỉ ra hình dạng của tam giác ABC ( đều , vuông , cân , vuông cân , tù , nhọn , ... )\n",
    "import math\n",
    "\n",
    "def khoang_cach_2_diem(diemax, diemay, diembx, diemby):\n",
    "    ketqua = math.sqrt( (diemax - diembx) ** 2 + (diemby - diemay)**2 )\n",
    "    return ketqua\n",
    "\n",
    "def tamgiac(a,b,c):\n",
    "\n",
    "    isTamGiac = a+b>c and a+c>b and b+c>a\n",
    "    isCan = isTamGiac and (a==b or a==c or b==c)\n",
    "    isVuong = isTamGiac and (a*a==b*b+c*c or b*b==a*a+c*c or c*c==b*b+a*a)\n",
    "    isDeu = a==b==c\n",
    "\n",
    "    # Tù: Bình phường cạnh huyền > tổng bình phương 2 cạnh còn lại\n",
    "    isTu =  isTamGiac and (a*a > b*b+c*c or b*b > a*a+c*c or c*c > b*b+a*a)\n",
    "\n",
    "    if isDeu :\n",
    "        print(\"Là tam giác đều\")\n",
    "    elif isVuong :\n",
    "        print(\"Là tam giác vuông\")\n",
    "    elif isCan:\n",
    "        print(\"Là tam giác cân\")\n",
    "    elif isTamGiac and isDeu==False and isVuong==False:\n",
    "        print(\"Là tam giác thường\")\n",
    "    elif isTu:\n",
    "        print(\"Là tam giác tù\")\n",
    "    else:\n",
    "        print(\"Không phải tam giác\")\n",
    "\n",
    "def main():\n",
    "    print('Nhập diểm A')\n",
    "    ax = int(input(\"Nhập Ax:\"))\n",
    "    ay = int(input(\"Nhập Ay:\"))\n",
    "\n",
    "    print('Nhập diểm B')\n",
    "    bx = int(input(\"Nhập Bx:\"))\n",
    "    by = int(input(\"Nhập By:\"))\n",
    "\n",
    "    print('Nhập diểm C')\n",
    "    cx = int(input(\"Nhập Cx:\"))\n",
    "    cy = int(input(\"Nhập Cy:\"))\n",
    "\n",
    "    # AB\n",
    "    canhab = khoang_cach_2_diem(ax,ay,bx,by)\n",
    "\n",
    "    # BC\n",
    "    canhbc = khoang_cach_2_diem(bx,by,cx,cy)\n",
    "\n",
    "    # AC\n",
    "    canhac = khoang_cach_2_diem(ax, ay, cx, cy)\n",
    "\n",
    "    tamgiac(canhab, canhbc, canhac)\n",
    "\n",
    "main()"
   ],
   "metadata": {
    "collapsed": false
   }
  }
 ],
 "metadata": {
  "kernelspec": {
   "display_name": "Python 3",
   "language": "python",
   "name": "python3"
  },
  "language_info": {
   "codemirror_mode": {
    "name": "ipython",
    "version": 2
   },
   "file_extension": ".py",
   "mimetype": "text/x-python",
   "name": "python",
   "nbconvert_exporter": "python",
   "pygments_lexer": "ipython2",
   "version": "2.7.6"
  }
 },
 "nbformat": 4,
 "nbformat_minor": 0
}
