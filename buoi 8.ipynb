{
 "cells": [
  {
   "cell_type": "markdown",
   "source": [
    "# 16-Nov-2022"
   ],
   "metadata": {
    "collapsed": false
   }
  },
  {
   "cell_type": "code",
   "execution_count": 13,
   "outputs": [
    {
     "name": "stdout",
     "output_type": "stream",
     "text": [
      "1.0\n",
      "1.5\n",
      "1.8333333333333333\n",
      "2.083333333333333\n",
      "2.283333333333333\n",
      "2.4499999999999997\n",
      "2.5928571428571425\n",
      "2.7178571428571425\n",
      "2.8289682539682537\n",
      "2.9289682539682538\n",
      "2.9289682539682538\n"
     ]
    }
   ],
   "source": [
    "# s1 = 1 + 1/2 + 1/3 + ... + 1/n\n",
    "n = 10\n",
    "tong = 0\n",
    "for i in range(1,n+1,1):\n",
    "    tong = tong + 1/i\n",
    "    print(tong)\n",
    "print(tong)"
   ],
   "metadata": {
    "collapsed": false
   }
  },
  {
   "cell_type": "code",
   "execution_count": 11,
   "outputs": [
    {
     "name": "stdout",
     "output_type": "stream",
     "text": [
      "1 2 3 4 \n"
     ]
    }
   ],
   "source": [
    "# print first 5 integers\n",
    "# using python range() function\n",
    "for i in range(1,5,1):\n",
    "    print(i, end=\" \")\n",
    "print()\n"
   ],
   "metadata": {
    "collapsed": false
   }
  },
  {
   "cell_type": "code",
   "execution_count": 22,
   "outputs": [
    {
     "name": "stdout",
     "output_type": "stream",
     "text": [
      "i: 1\n",
      "1\n",
      "i: 2\n",
      "5\n",
      "5\n"
     ]
    }
   ],
   "source": [
    "# s2 = 1 + 2^2 + 3^2 + ... + n^2\n",
    "n = 2\n",
    "tong = 0\n",
    "for i in range(1,n+1,1):\n",
    "    tong = tong + i**2\n",
    "    print(\"i:\", i)\n",
    "    print(tong)\n",
    "print(tong)"
   ],
   "metadata": {
    "collapsed": false
   }
  },
  {
   "cell_type": "code",
   "execution_count": 1,
   "outputs": [],
   "source": [
    "import turtle\n",
    "\n",
    "windows = turtle.Screen()\n",
    "draw = turtle.Turtle()\n",
    "\n",
    "draw.color(\"red\")\n",
    "draw.forward(200)\n",
    "\n",
    "windows.mainloop() ## Dùng Screen để tránh crash app = vẫn crash :v"
   ],
   "metadata": {
    "collapsed": false
   }
  },
  {
   "cell_type": "code",
   "execution_count": 2,
   "outputs": [
    {
     "name": "stdout",
     "output_type": "stream",
     "text": [
      "First array:  [12, 11, 13, 5, 6, 7, 8, 9, 10, 1, 2]\n",
      "Array after sort:  [1, 2, 5, 6, 7, 8, 9, 10, 11, 12, 13]\n"
     ]
    }
   ],
   "source": [
    "A = [12, 11, 13, 5, 6, 7, 8, 9, 10, 1, 2]\n",
    "print(\"First array: \", A)\n",
    "\n",
    "for i in range(len(A) - 1):\n",
    "    for j in range(i+1, len(A)):\n",
    "        if A[i] > A[j]:\n",
    "            A[i], A[j] = A[j], A[i]\n",
    "\n",
    "print(\"Array after sort: \", A)"
   ],
   "metadata": {
    "collapsed": false
   }
  },
  {
   "cell_type": "code",
   "execution_count": 7,
   "outputs": [
    {
     "name": "stdout",
     "output_type": "stream",
     "text": [
      "Enter row 1 ;\n",
      "Enter row 2 ;\n",
      "Matrix:  [[1, 1], [1, 1]]\n",
      "1 1 \n",
      "1 1 \n"
     ]
    }
   ],
   "source": [
    "matrix = []\n",
    "m = int(input(\"Enter number of rows: \"))\n",
    "n = int(input(\"Enter number of columns: \"))\n",
    "\n",
    "for i in range(m):\n",
    "    print(\"Enter row\", i+1, \";\")\n",
    "    row = []\n",
    "    for j in range(n):\n",
    "        x = int(input(\"Enter element \" + str(j + 1) + \" th:\")) #\n",
    "        row.append(x)\n",
    "    matrix.append(row)\n",
    "\n",
    "print(\"Matrix: \", matrix)\n",
    "\n",
    "for i in range(m):\n",
    "    for j in range(n):\n",
    "        print(matrix[i][j], end=\" \")\n",
    "    print()"
   ],
   "metadata": {
    "collapsed": false
   }
  }
 ],
 "metadata": {
  "kernelspec": {
   "display_name": "Python 3",
   "language": "python",
   "name": "python3"
  },
  "language_info": {
   "codemirror_mode": {
    "name": "ipython",
    "version": 2
   },
   "file_extension": ".py",
   "mimetype": "text/x-python",
   "name": "python",
   "nbconvert_exporter": "python",
   "pygments_lexer": "ipython2",
   "version": "2.7.6"
  }
 },
 "nbformat": 4,
 "nbformat_minor": 0
}
