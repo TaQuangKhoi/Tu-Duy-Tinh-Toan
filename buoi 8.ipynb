{
 "cells": [
  {
   "cell_type": "markdown",
   "source": [
    "# 16-Nov-2022"
   ],
   "metadata": {
    "collapsed": false
   }
  },
  {
   "cell_type": "code",
   "execution_count": null,
   "outputs": [],
   "source": [
    "# s1 = 1 + 1/2 + 1/3 + ... + 1/n\n",
    "n = 10\n",
    "tong = 0\n",
    "for i in range(1,n+1,1):\n",
    "    tong = tong + 1/i\n",
    "    print(tong)\n",
    "print(tong)"
   ],
   "metadata": {
    "collapsed": false
   }
  },
  {
   "cell_type": "code",
   "execution_count": null,
   "outputs": [],
   "source": [
    "# print first 5 integers\n",
    "# using python range() function\n",
    "for i in range(1,5,1):\n",
    "    print(i, end=\" \")\n",
    "print()\n"
   ],
   "metadata": {
    "collapsed": false
   }
  },
  {
   "cell_type": "code",
   "execution_count": null,
   "outputs": [],
   "source": [
    "# s2 = 1 + 2^2 + 3^2 + ... + n^2\n",
    "n = 2\n",
    "tong = 0\n",
    "for i in range(1,n+1,1):\n",
    "    tong = tong + i**2\n",
    "    print(\"i:\", i)\n",
    "    print(tong)\n",
    "print(tong)"
   ],
   "metadata": {
    "collapsed": false
   }
  },
  {
   "cell_type": "code",
   "execution_count": null,
   "outputs": [],
   "source": [
    "import turtle\n",
    "\n",
    "windows = turtle.Screen()\n",
    "draw = turtle.Turtle()\n",
    "\n",
    "draw.color(\"red\")\n",
    "draw.forward(200)\n",
    "\n",
    "windows.mainloop() ## Dùng Screen để tránh crash app = vẫn crash :v"
   ],
   "metadata": {
    "collapsed": false
   }
  },
  {
   "cell_type": "code",
   "execution_count": null,
   "outputs": [],
   "source": [
    "A = [12, 11, 13, 5, 6, 7, 8, 9, 14, 1, 2]\n",
    "print(\"First array: \", A)\n",
    "\n",
    "for i in range(len(A) - 1):\n",
    "    for j in range(i+1, len(A)):\n",
    "        if A[i] > A[j]:\n",
    "            A[i], A[j] = A[j], A[i]\n",
    "\n",
    "print(\"Array after sort: \", A)\n",
    "\n",
    "min = A[0]\n",
    "max = A[0]\n",
    "sum = 0\n",
    "\n",
    "for i in range(len(A)-1):\n",
    "    if min > A[j]:\n",
    "        min = A[i]\n",
    "\n",
    "print(\"Min DIY: \", min)\n",
    "\n",
    "for i in range(len(A)):\n",
    "    if A[i] > max:\n",
    "        max = A[i]\n",
    "\n",
    "print(\"Max DIY: \", max)\n",
    "\n",
    "for i in range(0, len(A)-1):\n",
    "    sum += A[i]\n",
    "\n",
    "print(\"Sum DIY: \", sum)\n"
   ],
   "metadata": {
    "collapsed": false
   }
  },
  {
   "cell_type": "code",
   "execution_count": 48,
   "outputs": [
    {
     "name": "stdout",
     "output_type": "stream",
     "text": [
      "Enter row 1 ;\n",
      "Enter row 2 ;\n",
      "Matrix:  [[2, 1], [3, 2]]\n",
      "2 1 \n",
      "3 2 \n",
      "Max value in matrix:  3\n",
      "Min value in matrix:  1\n",
      "Sum of matrix:  8\n"
     ]
    }
   ],
   "source": [
    "matrix = []\n",
    "m = int(input(\"Enter number of rows: \"))\n",
    "n = int(input(\"Enter number of columns: \"))\n",
    "\n",
    "for i in range(m):\n",
    "    print(\"Enter row\", i+1, \";\")\n",
    "    row = []\n",
    "    for j in range(n):\n",
    "        x = int(input(\"Enter element \" + str(j + 1) + \" th:\")) #\n",
    "        row.append(x)\n",
    "    matrix.append(row)\n",
    "\n",
    "print(\"Matrix: \", matrix)\n",
    "\n",
    "for i in range(m):\n",
    "    for j in range(n):\n",
    "        print(matrix[i][j], end=\" \")\n",
    "    print()\n",
    "\n",
    "min = matrix[0][0]\n",
    "max = matrix[0][0]\n",
    "sum = 0\n",
    "\n",
    "for i in range(len(matrix)):\n",
    "    for j in range(len(matrix[i])):\n",
    "        sum += matrix[i][j]\n",
    "        if min > matrix[i][j]:\n",
    "            min = matrix[i][j]\n",
    "        if max < matrix[i][j]:\n",
    "            max = matrix[i][j]\n",
    "\n",
    "print(\"Max value in matrix: \", max)\n",
    "print(\"Min value in matrix: \", min)\n",
    "print(\"Sum of matrix: \", sum)"
   ],
   "metadata": {
    "collapsed": false
   }
  },
  {
   "cell_type": "code",
   "execution_count": 45,
   "outputs": [
    {
     "name": "stdout",
     "output_type": "stream",
     "text": [
      "Max value in matrix:  10\n",
      "Min value in matrix:  1\n",
      "Sum of matrix:  45\n"
     ]
    }
   ],
   "source": [
    "# Cho ds M = [[1], [1, 2, 4, 6, 8], [1, 2, 10], [1, 2, 3, 4]].\n",
    "# Thực hiện tính tổng tất cả các phần tử của ds.\n",
    "# Tìm giá trị lớn nhất trong các sublist và in ra.\n",
    "\n",
    "listWithSubList = [[1], [1, 2, 4, 6, 8], [1, 2, 10], [1, 2, 3, 4]]\n",
    "\n",
    "sum = 0\n",
    "for i in range(len(listWithSubList)):\n",
    "    for j in range(len(listWithSubList[i])):\n",
    "        sum += listWithSubList[i][j]\n",
    "        if min > listWithSubList[i][j]:\n",
    "            min = listWithSubList[i][j]\n",
    "        if max < listWithSubList[i][j]:\n",
    "            max = listWithSubList[i][j]\n",
    "\n",
    "print(\"Max value in matrix: \", max)\n",
    "print(\"Min value in matrix: \", min)\n",
    "print(\"Sum of matrix: \", sum)"
   ],
   "metadata": {
    "collapsed": false
   }
  }
 ],
 "metadata": {
  "kernelspec": {
   "display_name": "Python 3",
   "language": "python",
   "name": "python3"
  },
  "language_info": {
   "codemirror_mode": {
    "name": "ipython",
    "version": 2
   },
   "file_extension": ".py",
   "mimetype": "text/x-python",
   "name": "python",
   "nbconvert_exporter": "python",
   "pygments_lexer": "ipython2",
   "version": "2.7.6"
  }
 },
 "nbformat": 4,
 "nbformat_minor": 0
}
