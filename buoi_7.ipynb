{
 "cells": [
  {
   "cell_type": "code",
   "execution_count": 1,
   "metadata": {
    "collapsed": true
   },
   "outputs": [
    {
     "name": "stdout",
     "output_type": "stream",
     "text": [
      "Hello World\n",
      "HELLO WORLD\n"
     ]
    }
   ],
   "source": [
    "chuoi = \"Hello World\"\n",
    "print(chuoi)\n",
    "upper_chuoi = chuoi.upper()\n",
    "print(upper_chuoi)"
   ]
  },
  {
   "cell_type": "code",
   "execution_count": 5,
   "outputs": [
    {
     "name": "stdout",
     "output_type": "stream",
     "text": [
      "a\n",
      "2\n",
      "b\n",
      "a\n",
      "n\n",
      "a\n",
      "n\n",
      "a\n",
      "2\n"
     ]
    }
   ],
   "source": [
    "fruit = \"banana2\"\n",
    "char = fruit[1]\n",
    "print(char)\n",
    "\n",
    "# Lấy ký tự cuối\n",
    "\n",
    "print(fruit[-1])\n",
    "\n",
    "for c in fruit:\n",
    "    print(c)"
   ],
   "metadata": {
    "collapsed": false
   }
  },
  {
   "cell_type": "code",
   "execution_count": 6,
   "outputs": [
    {
     "name": "stdout",
     "output_type": "stream",
     "text": [
      "Aack\n",
      "Back\n",
      "Cack\n",
      "Dack\n",
      "Eack\n",
      "Fack\n"
     ]
    }
   ],
   "source": [
    "prefixes = \"ABCDEF\" # Các tiền tố\n",
    "suffix = \"ack\" # Hậu tố\n",
    "\n",
    "for p in prefixes:\n",
    "    print(p + suffix)"
   ],
   "metadata": {
    "collapsed": false
   }
  },
  {
   "cell_type": "code",
   "execution_count": 1,
   "outputs": [
    {
     "name": "stdout",
     "output_type": "stream",
     "text": [
      "Pirates\n"
     ]
    }
   ],
   "source": [
    "s = \"Pirates of the Caribbe\"\n",
    "print(s[0:7])"
   ],
   "metadata": {
    "collapsed": false
   }
  },
  {
   "cell_type": "code",
   "execution_count": null,
   "outputs": [],
   "source": [
    "replace = \"Toi yeu em\"\n",
    "replace.remove(1)\n",
    "\n",
    "print(replace)"
   ],
   "metadata": {
    "collapsed": false
   }
  },
  {
   "cell_type": "code",
   "execution_count": 8,
   "outputs": [
    {
     "name": "stdout",
     "output_type": "stream",
     "text": [
      "Hello WorldHello WorldHello World\n"
     ]
    }
   ],
   "source": [
    "s = \"Hello\" + \" \" + \"World\"\n",
    "print(s * 3)"
   ],
   "metadata": {
    "collapsed": false
   }
  },
  {
   "cell_type": "code",
   "execution_count": 14,
   "outputs": [
    {
     "data": {
      "text/plain": "5"
     },
     "execution_count": 14,
     "metadata": {},
     "output_type": "execute_result"
    }
   ],
   "source": [
    "def dem(char = 'a', string = 'aaa'):\n",
    "    tong = 0;\n",
    "    for i in string:\n",
    "        if i == char :\n",
    "            tong = tong + 1\n",
    "    return tong\n",
    "\n",
    "tim = 'a'\n",
    "timtrong = 'aksjhdkashdkjahknasscksa'\n",
    "\n",
    "dem(tim, timtrong)"
   ],
   "metadata": {
    "collapsed": false
   }
  },
  {
   "cell_type": "code",
   "execution_count": 16,
   "outputs": [
    {
     "name": "stdout",
     "output_type": "stream",
     "text": [
      "['Vì', 'yêu', 'là', 'nhớ,', 'vì', 'yêu', 'là', 'mơ']\n"
     ]
    }
   ],
   "source": [
    "chuoicanchia = \"Vì yêu là nhớ, vì yêu là mơ\"\n",
    "\n",
    "print(chuoicanchia.split())"
   ],
   "metadata": {
    "collapsed": false
   }
  },
  {
   "cell_type": "code",
   "execution_count": null,
   "outputs": [],
   "source": [],
   "metadata": {
    "collapsed": false
   }
  },
  {
   "cell_type": "code",
   "execution_count": 17,
   "outputs": [
    {
     "name": "stdout",
     "output_type": "stream",
     "text": [
      "HELLO\n",
      "HELLO\n",
      "HELLO\n",
      "HELLO\n",
      "HELLO\n",
      "HELLO\n",
      "HELLO\n",
      "HELLO\n",
      "HELLO\n",
      "HELLO\n",
      "HELLO\n",
      "HELLO\n"
     ]
    }
   ],
   "source": [
    "s = \"python rocks\"\n",
    "for ch in s:\n",
    "    print(\"HELLO\")"
   ],
   "metadata": {
    "collapsed": false
   }
  },
  {
   "cell_type": "code",
   "execution_count": 21,
   "outputs": [
    {
     "name": "stdout",
     "output_type": "stream",
     "text": [
      "3000\n",
      "toiyem\n"
     ]
    }
   ],
   "source": [
    "# Bài 1. Tách kí tự số và chữ cái\n",
    "# Nhập vào một chuỗi bao gồm cả số và chữ cái . Hãy thực hiện tách ra thành 2 chuỗi , một chuỗi chỉ số , một chuỗi chỉ chữ cái .\n",
    "\n",
    "\n",
    "def tach_so(p_chuoi):\n",
    "    so = \"\"\n",
    "    for kytu in p_chuoi:\n",
    "        if kytu.isdigit():\n",
    "            so = so + kytu\n",
    "    return so\n",
    "\n",
    "\n",
    "def tach_chu(p_chuoi):\n",
    "    chu = \"\"\n",
    "    for kytu in p_chuoi:\n",
    "        if kytu.isalpha():\n",
    "            chu = chu + kytu\n",
    "    return chu\n",
    "\n",
    "def main():\n",
    "    chuoi = input(\"Nhập một chuỗi gồm số và từ bất kỳ\")\n",
    "\n",
    "    print(tach_so(chuoi))\n",
    "    print(tach_chu(chuoi))\n",
    "\n",
    "main()"
   ],
   "metadata": {
    "collapsed": false
   }
  },
  {
   "cell_type": "code",
   "execution_count": 79,
   "outputs": [
    {
     "name": "stdout",
     "output_type": "stream",
     "text": [
      "1\n",
      "ascsasad\n"
     ]
    }
   ],
   "source": [
    "# Bài 1. Tách kí tự số và chữ cái\n",
    "# Nhập vào một chuỗi bao gồm cả số và chữ cái . Hãy thực hiện tách ra thành 2 chuỗi , một chuỗi chỉ số , một chuỗi chỉ chữ cái .\n",
    "import string\n",
    "\n",
    "def tach_so(p_chuoi):\n",
    "    all = {'0', '1', '2', '3', '4', '5', '6', '7', '8', '9'}\n",
    "    so = \"\"\n",
    "    for kytu in p_chuoi:\n",
    "        if kytu in all:\n",
    "            so = so + kytu\n",
    "    return so\n",
    "\n",
    "\n",
    "def tach_chu(p_chuoi):\n",
    "    chu = \"\"\n",
    "    for kytu in p_chuoi:\n",
    "        if kytu in string.ascii_lowercase or kytu in string.ascii_uppercase:\n",
    "            chu = chu + kytu\n",
    "    return chu\n",
    "\n",
    "def main():\n",
    "    chuoi = input(\"Nhập một chuỗi gồm số và từ bất kỳ\")\n",
    "\n",
    "    print(tach_so(chuoi))\n",
    "    print(tach_chu(chuoi))\n",
    "\n",
    "main()"
   ],
   "metadata": {
    "collapsed": false
   }
  },
  {
   "cell_type": "code",
   "execution_count": 75,
   "outputs": [
    {
     "name": "stdout",
     "output_type": "stream",
     "text": [
      "abbbb\n",
      "bbbba\n",
      "Đây không phải chuỗi đối xứng\n"
     ]
    }
   ],
   "source": [
    "# Bài 2. Chuỗi đối xứng\n",
    "# • Ví dụ chuỗi đối xứng : 1221 , madam\n",
    "# • Ví dụ chuỗi không đối xứng : 1234 , bvu\n",
    "# • Kiểm tra tính đối xứng của một chuỗi\n",
    "import math\n",
    "\n",
    "def main():\n",
    "    chuoi = input(\"Nhập một chuỗi\")\n",
    "    print(chuoi)\n",
    "    print(chuoi[::-1])\n",
    "    if chuoi == chuoi[::-1]:\n",
    "        print(\"Đây là chuỗi đối xứng\")\n",
    "    else:\n",
    "        print(\"Đây không phải chuỗi đối xứng\")\n",
    "\n",
    "main()"
   ],
   "metadata": {
    "collapsed": false
   }
  }
 ],
 "metadata": {
  "kernelspec": {
   "display_name": "Python 3",
   "language": "python",
   "name": "python3"
  },
  "language_info": {
   "codemirror_mode": {
    "name": "ipython",
    "version": 2
   },
   "file_extension": ".py",
   "mimetype": "text/x-python",
   "name": "python",
   "nbconvert_exporter": "python",
   "pygments_lexer": "ipython2",
   "version": "2.7.6"
  }
 },
 "nbformat": 4,
 "nbformat_minor": 0
}
